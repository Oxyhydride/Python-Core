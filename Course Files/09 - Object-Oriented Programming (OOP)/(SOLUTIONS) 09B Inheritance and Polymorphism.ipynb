{
 "cells": [
  {
   "cell_type": "markdown",
   "metadata": {},
   "source": [
    "# 09 - Object-Oriented Programming (OOP)\n",
    "## 09B - Inheritance and Polymorphism"
   ]
  },
  {
   "cell_type": "markdown",
   "metadata": {},
   "source": [
    "## Inheritance and Polymorphism\n",
    "Inheritance provides a way to share functionality between classes.\n",
    "\n",
    "Imagine several classes, `Cat`, `Dog`, `Rabbit` and so on. Although they may differ in some ways (only `Dog` might have the method bark), they are likely to be similar in others (all having the attributes colour and name).\n",
    "\n",
    "This similarity can be expressed by making them all inherit from a superclass `Animal`, which contains the shared functionality.\n",
    "\n",
    "To inherit a class from another class, put the superclass name in parentheses after the class name.\n",
    "\n",
    "Note on terminology:\n",
    "- A class that inherits from another class is called a **subclass**.\n",
    "- A class that is inherited from is called a **superclass**."
   ]
  },
  {
   "cell_type": "code",
   "execution_count": 1,
   "metadata": {},
   "outputs": [
    {
     "name": "stdout",
     "output_type": "stream",
     "text": [
      "brown\n",
      "green\n",
      "Make sound\n",
      "None\n",
      "Make sound\n",
      "None\n",
      "Woof\n",
      "None\n",
      "Chirp\n",
      "None\n"
     ]
    }
   ],
   "source": [
    "# Superclass `Animal`\n",
    "class Animal:\n",
    "    def __init__(self, name, colour):\n",
    "        self.name = name\n",
    "        self.colour = colour\n",
    "\n",
    "    def make_sound(self):\n",
    "        print(\"Make sound\")\n",
    "\n",
    "\n",
    "# Subclasses\n",
    "class Dog(Animal):  # `Pig` is a subclass of `Animal`\n",
    "    def bark(self):\n",
    "        print(\"Woof\")\n",
    "\n",
    "\n",
    "class Bird(Animal):  # `Bird` is a subclass of `Animal`\n",
    "    def chirp(self):\n",
    "        print(\"Chirp\")\n",
    "\n",
    "\n",
    "# Test the classes\n",
    "fido = Dog(\"Fido\", \"brown\")  # Constructor method is the same as the superclass\n",
    "oliver = Bird(\"Oliver\", \"green\")\n",
    "\n",
    "print(fido.colour)\n",
    "print(oliver.colour)\n",
    "\n",
    "print(fido.make_sound())\n",
    "print(oliver.make_sound())\n",
    "\n",
    "print(fido.bark())\n",
    "print(oliver.chirp())"
   ]
  },
  {
   "cell_type": "markdown",
   "metadata": {},
   "source": [
    "If a class inherits from another with the same attributes or methods, it overrides them.\n",
    "\n",
    "The overriding of methods with the same name and performing an action based on the context is known as *polymorphism*. We can showcase polymorphism by overriding the `make_sound()` method of the `Animal` class in the subclasses."
   ]
  },
  {
   "cell_type": "code",
   "execution_count": 2,
   "metadata": {},
   "outputs": [
    {
     "name": "stdout",
     "output_type": "stream",
     "text": [
      "yellow\n",
      "brown\n",
      "green\n",
      "Make sound\n",
      "None\n",
      "Woof\n",
      "None\n",
      "Chirp\n",
      "None\n"
     ]
    }
   ],
   "source": [
    "# Superclass `Animal`\n",
    "class Animal:\n",
    "    def __init__(self, name, colour):\n",
    "        self.name = name\n",
    "        self.colour = colour\n",
    "\n",
    "    def make_sound(self):\n",
    "        print(\"Make sound\")\n",
    "\n",
    "\n",
    "# Subclasses\n",
    "class Dog(Animal):\n",
    "    def make_sound(self):  # Note that this has the same name as the superclass's method\n",
    "        print(\"Woof\")\n",
    "\n",
    "\n",
    "class Bird(Animal):\n",
    "    def make_sound(self):\n",
    "        print(\"Chirp\")\n",
    "\n",
    "\n",
    "# Test the classes\n",
    "animal = Animal(\"Animal\", \"yellow\")  # Generic animal\n",
    "fido = Dog(\"Fido\", \"brown\")\n",
    "oliver = Bird(\"Oliver\", \"green\")\n",
    "\n",
    "print(animal.colour)\n",
    "print(fido.colour)\n",
    "print(oliver.colour)\n",
    "\n",
    "# Showcasing polymorphism\n",
    "print(animal.make_sound())\n",
    "print(fido.make_sound())\n",
    "print(oliver.make_sound())"
   ]
  },
  {
   "cell_type": "markdown",
   "metadata": {},
   "source": [
    "Inheritance can also be indirect. One class can inherit from another, and that class can inherit from a third class. However, circular inheritance is not permitted."
   ]
  },
  {
   "cell_type": "code",
   "execution_count": 3,
   "metadata": {},
   "outputs": [
    {
     "name": "stdout",
     "output_type": "stream",
     "text": [
      "Override method in A and B with C\n",
      "Method in B\n",
      "Method in C\n"
     ]
    }
   ],
   "source": [
    "# Classes\n",
    "class A:\n",
    "    def method(self):\n",
    "        print(\"Method in A\")\n",
    "\n",
    "class B(A):  # B inherits from A\n",
    "    def method(self):\n",
    "        print(\"Override method in A with B\")\n",
    "    def method_2(self):\n",
    "        print(\"Method in B\")\n",
    "\n",
    "class C(B):  # C inherits from B\n",
    "    def method(self):\n",
    "        print(\"Override method in A and B with C\")\n",
    "    def method_3(self):\n",
    "        print(\"Method in C\")\n",
    "\n",
    "\n",
    "# Testing the classes\n",
    "c = C()\n",
    "c.method()\n",
    "c.method_2()\n",
    "c.method_3()"
   ]
  },
  {
   "cell_type": "markdown",
   "metadata": {},
   "source": [
    "The function `super` is a useful inheritance-related function that refers to the parent class. It can be used to find the method with a certain name in an object's superclass."
   ]
  },
  {
   "cell_type": "code",
   "execution_count": 4,
   "metadata": {},
   "outputs": [
    {
     "name": "stdout",
     "output_type": "stream",
     "text": [
      "Override method in A and B with C\n",
      "Override method in A with B\n",
      "Method in A\n"
     ]
    }
   ],
   "source": [
    "# Classes\n",
    "class A:\n",
    "    def method(self):\n",
    "        print(\"Method in A\")\n",
    "\n",
    "class B(A):  # B inherits from A\n",
    "    def method(self):\n",
    "        print(\"Override method in A with B\")\n",
    "        super().method()  # Calls the method in the superclass (i.e. the class `A`)\n",
    "        \n",
    "class C(B):  # C inherits from B\n",
    "    def method(self):\n",
    "        print(\"Override method in A and B with C\")\n",
    "        super().method()  # Calls the method in the superclass (i.e. the class `B`)\n",
    "\n",
    "\n",
    "# Tests\n",
    "c = C()\n",
    "c.method()"
   ]
  },
  {
   "cell_type": "markdown",
   "metadata": {},
   "source": [
    "**Exercise 09.04**: Create a class named `Environment`.\n",
    "- The class has two instance attributes, `name` and `humidity`. Both are weakly private and have appropriate getter/setter methods.\n",
    "    - No validation is needed for `name`.\n",
    "    - Validate that `humidity` is a number between 0 and 100 **inclusive**. **Assume that the value that is being set is already a number**. **Print** `Invalid Humidity: [NEW HUMIDITY]` if the new humidity is not valid. Otherwise, **do not print anything**.\n",
    "- The class has two public instance methods, `is_humid()` and `colours()`.\n",
    "    - `is_humid()` returns `True` if `humidity` is at least `50` and `False` otherwise.\n",
    "    - `colours()` returns the string `Not Implemented`.\n",
    "\n",
    "Create two other classes, `Rainforest` and `Desert`.\n",
    "- In `Rainforest`, override the `colours()` method to return the **list** `[\"Green\", \"Yellow\", \"Blue\"]`\n",
    "- In `Desert`, override the `colours()` method to return the **list** `[\"Yellow\", \"Orange\", \"White\"]`\n",
    "\n",
    "Test your classes by:\n",
    "- creating three instances with the following specifications.\n",
    "    - `mountain`: An instance of the `Environment` class where `name` is `Himalayas` and `humidity` is `38.4`.\n",
    "    - `rainforest`: An instance of the `Rainforest` class where `name` is `Amazon` and `humidity` is `97.6`.\n",
    "    - `desert`: An instance of the `Desert` class where `name` is `Sahara` and `humidity` is `3.41`.\n",
    "- printing the output of the following calls.\n",
    "    - `mountain.is_humid()`\n",
    "    - `rainforest.is_humid()`\n",
    "    - `desert.is_humid()`\n",
    "    - `mountain.colours()`\n",
    "    - `rainforest.colours()`\n",
    "    - `desert.colours()`"
   ]
  },
  {
   "cell_type": "code",
   "execution_count": 5,
   "metadata": {},
   "outputs": [
    {
     "name": "stdout",
     "output_type": "stream",
     "text": [
      "False\n",
      "True\n",
      "False\n",
      "Not Implemented\n",
      "['Green', 'Yellow', 'Blue']\n",
      "['Yellow', 'Orange', 'White']\n"
     ]
    }
   ],
   "source": [
    "# Create the `Environment` superclass\n",
    "class Environment:\n",
    "    # Constructor method\n",
    "    def __init__(self, name, humidity):\n",
    "        self.name = name\n",
    "        self.humidity = humidity\n",
    "        \n",
    "    # Getter/Setter methods\n",
    "    @property\n",
    "    def name(self):\n",
    "        return self._name  # Weakly private\n",
    "    \n",
    "    @property\n",
    "    def humidity(self):\n",
    "        return self._humidity  # Weakly private\n",
    "    \n",
    "    @name.setter\n",
    "    def name(self, new_name):\n",
    "        # No validation needed; just directly set the name\n",
    "        self._name = new_name\n",
    "    \n",
    "    @humidity.setter\n",
    "    def humidity(self, new_humidity):\n",
    "        # Validate that `new_humidity` is a number between 0 and 100 inclusive\n",
    "        if not (0 <= new_humidity <= 100):\n",
    "            print(f\"Invalid Humidity: {new_humidity}\")\n",
    "            return\n",
    "            \n",
    "        # Update the `humidity` attribute\n",
    "        self._humidity = new_humidity\n",
    "    \n",
    "    # Other methods\n",
    "    def is_humid(self):\n",
    "        return self._humidity >= 50  # Equivalently, `self.humidity >= 50` by using the property's getter method\n",
    "    \n",
    "    def colours(self):\n",
    "        return \"Not Implemented\"\n",
    "\n",
    "\n",
    "# Create the subclasses\n",
    "class Rainforest(Environment):  # Inherits from `Environment`\n",
    "    # Override the `colours()` method\n",
    "    def colours(self):\n",
    "        return [\"Green\", \"Yellow\", \"Blue\"]\n",
    "\n",
    "\n",
    "class Desert(Environment):  # Inherits from `Environment`\n",
    "    def colours(self):\n",
    "        return [\"Yellow\", \"Orange\", \"White\"]\n",
    "    \n",
    "\n",
    "# Create three instances\n",
    "mountain = Environment(\"Himalayas\", 38.4)\n",
    "rainforest = Rainforest(\"Amazon\", 97.6)\n",
    "desert = Desert(\"Sahara\", 3.41)\n",
    "\n",
    "# Print output of required calls\n",
    "print(mountain.is_humid())\n",
    "print(rainforest.is_humid())\n",
    "print(desert.is_humid())\n",
    "print(mountain.colours())\n",
    "print(rainforest.colours())\n",
    "print(desert.colours())"
   ]
  },
  {
   "cell_type": "markdown",
   "metadata": {},
   "source": [
    "## `type` and `isinstance`"
   ]
  },
  {
   "cell_type": "markdown",
   "metadata": {},
   "source": [
    "To get what class an object is, we can use the `type` function."
   ]
  },
  {
   "cell_type": "code",
   "execution_count": 6,
   "metadata": {},
   "outputs": [
    {
     "name": "stdout",
     "output_type": "stream",
     "text": [
      "<class 'int'>\n",
      "<class 'float'>\n",
      "<class 'str'>\n",
      "<class '__main__.A'>\n",
      "<class '__main__.B'>\n",
      "<class '__main__.C'>\n"
     ]
    }
   ],
   "source": [
    "# Built-in Types\n",
    "print(type(1))\n",
    "print(type(2.34))\n",
    "print(type(\"Hello world\"))\n",
    "\n",
    "# Using the above classes\n",
    "a = A()\n",
    "b = B()\n",
    "c = C()\n",
    "\n",
    "print(type(a))\n",
    "print(type(b))\n",
    "print(type(c))"
   ]
  },
  {
   "cell_type": "markdown",
   "metadata": {},
   "source": [
    "We can check what type an object is by comparing the return value of the `type` function with the class."
   ]
  },
  {
   "cell_type": "code",
   "execution_count": 7,
   "metadata": {},
   "outputs": [
    {
     "name": "stdout",
     "output_type": "stream",
     "text": [
      "True\n",
      "True\n",
      "False\n",
      "True\n",
      "False\n",
      "True\n",
      "False\n",
      "False\n",
      "True\n"
     ]
    }
   ],
   "source": [
    "# Built-in types\n",
    "print(type(1) == int)\n",
    "print(type(2.34) == float)\n",
    "print(type(1) == float)\n",
    "\n",
    "# Using the above classes\n",
    "a = A()\n",
    "b = B()\n",
    "c = C()\n",
    "\n",
    "print(type(a) == A)\n",
    "print(type(b) == A)\n",
    "print(type(b) == B)\n",
    "print(type(c) == A)\n",
    "print(type(c) == B)\n",
    "print(type(c) == C)"
   ]
  },
  {
   "cell_type": "markdown",
   "metadata": {},
   "source": [
    "A *less strict* type comparison can be achieved by using `isinstance`. The `isinstance` function checks if the object is a **subclass** or **is equal** to the provided  class. This is different from `type`, where it only checks if the classes are **exactly the same**."
   ]
  },
  {
   "cell_type": "code",
   "execution_count": 8,
   "metadata": {},
   "outputs": [
    {
     "name": "stdout",
     "output_type": "stream",
     "text": [
      "True\n",
      "True\n",
      "False\n",
      "True\n",
      "True\n",
      "True\n",
      "True\n",
      "True\n",
      "True\n"
     ]
    }
   ],
   "source": [
    "# Built-in types\n",
    "print(isinstance(1, int))\n",
    "print(isinstance(2.34, float))\n",
    "print(isinstance(1, float))\n",
    "\n",
    "# Using the above classes\n",
    "a = A()\n",
    "b = B()\n",
    "c = C()\n",
    "\n",
    "print(isinstance(a, A))\n",
    "print(isinstance(b, A))  # True because the class `B` is a subclass of `A`\n",
    "print(isinstance(b, B))\n",
    "print(isinstance(c, A))\n",
    "print(isinstance(c, B))\n",
    "print(isinstance(c, C))"
   ]
  },
  {
   "cell_type": "markdown",
   "metadata": {},
   "source": [
    "**Exercise 09.05**: Using the objects created in **Exercise 09.04**, write code that generates the output to the following questions.\n",
    "1. Is `mountain` an instance of `Environment`?\n",
    "2. Is the class type of `rainforest` `Environment`?\n",
    "3. Is `desert` an instance of `Desert`?\n",
    "4. Is `mountain.colours()` a string?\n",
    "5. Is `rainforest.is_humid()` an instance of a boolean?\n",
    "6. Is the humidity value of `desert` a number (that is, an integer or a float)?"
   ]
  },
  {
   "cell_type": "code",
   "execution_count": 9,
   "metadata": {},
   "outputs": [
    {
     "name": "stdout",
     "output_type": "stream",
     "text": [
      "True\n",
      "False\n",
      "True\n",
      "True\n",
      "True\n",
      "True\n",
      "True\n"
     ]
    }
   ],
   "source": [
    "print(isinstance(mountain, Environment))                                       # Q1\n",
    "print(type(rainforest) == Environment)                                         # Q2\n",
    "print(isinstance(desert, Desert))                                              # Q3\n",
    "print(type(mountain.colours()) == str)                                         # Q4\n",
    "print(isinstance(rainforest.is_humid(), bool))                                 # Q5\n",
    "print(type(desert.humidity) == int or type(desert.humidity) == float)          # Q6 First method\n",
    "print(isinstance(desert.humidity, int) or isinstance(desert.humidity, float))  # Q6 Second method"
   ]
  }
 ],
 "metadata": {},
 "nbformat": 4,
 "nbformat_minor": 1
}
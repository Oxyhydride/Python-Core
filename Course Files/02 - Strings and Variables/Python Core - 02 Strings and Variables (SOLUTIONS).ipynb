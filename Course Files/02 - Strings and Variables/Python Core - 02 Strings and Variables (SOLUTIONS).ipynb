{
 "cells": [
  {
   "cell_type": "markdown",
   "metadata": {},
   "source": [
    "# 02 - Strings and Variables"
   ]
  },
  {
   "cell_type": "markdown",
   "metadata": {},
   "source": [
    "## Strings"
   ]
  },
  {
   "cell_type": "markdown",
   "metadata": {},
   "source": [
    "If you want to use text in Python, you have to use a string. A string is created by entering text between two single or double quotation marks."
   ]
  },
  {
   "cell_type": "code",
   "execution_count": 1,
   "metadata": {},
   "outputs": [
    {
     "name": "stdout",
     "output_type": "stream",
     "text": [
      "This is a string!\n",
      "So is this.\n"
     ]
    }
   ],
   "source": [
    "print(\"This is a string!\")\n",
    "print('So is this.')"
   ]
  },
  {
   "cell_type": "markdown",
   "metadata": {},
   "source": [
    "Some characters can't be directly included in a string. For instance, double quotes can't be directly included in a double quote string; this would cause it to end prematurely.\n",
    "\n",
    "Characters like these must be escaped by placing a backslash before them.\n",
    "Double quotes only need to be escaped in double quote strings, and the same is true for single quote strings."
   ]
  },
  {
   "cell_type": "code",
   "execution_count": 2,
   "metadata": {},
   "outputs": [
    {
     "name": "stdout",
     "output_type": "stream",
     "text": [
      "It's a beautiful day!\n",
      "He said: \"This is a quote in a quote\".\n"
     ]
    }
   ],
   "source": [
    "print('It\\'s a beautiful day!')\n",
    "print(\"He said: \\\"This is a quote in a quote\\\".\")"
   ]
  },
  {
   "cell_type": "markdown",
   "metadata": {},
   "source": [
    "Backslashes can also be used to escape tabs, arbitrary Unicode characters, and various other things that can't be reliably printed."
   ]
  },
  {
   "cell_type": "markdown",
   "metadata": {},
   "source": [
    "**Exercise 02.01**: Print the following string.\n",
    "> Alice was beginning to get very tired of sitting by her sister on the bank, and of having nothing to do: once or twice she had peeped into her sister's book, but it had no pictures or conversations in it, \"and what is the use of a book,\" thought Alice, \"without pictures or conversations?\""
   ]
  },
  {
   "cell_type": "code",
   "execution_count": 3,
   "metadata": {},
   "outputs": [
    {
     "name": "stdout",
     "output_type": "stream",
     "text": [
      "Alice was beginning to get very tired of sitting by her sister on the bank, and of having nothing to do: once or twice she had peeped into her sister's book, but it had no pictures or conversations in it, \"and what is the use of a book,\" thought Alice, \"without pictures or conversations?\"\n"
     ]
    }
   ],
   "source": [
    "print(\"Alice was beginning to get very tired of sitting by her sister on the bank, and of having nothing to do: once or twice she had peeped into her sister's book, but it had no pictures or conversations in it, \\\"and what is the use of a book,\\\" thought Alice, \\\"without pictures or conversations?\\\"\")"
   ]
  },
  {
   "cell_type": "markdown",
   "metadata": {},
   "source": [
    "In a string, `\\n` represents a new line. It can be used in strings to create multi-line output."
   ]
  },
  {
   "cell_type": "code",
   "execution_count": 4,
   "metadata": {},
   "outputs": [
    {
     "name": "stdout",
     "output_type": "stream",
     "text": [
      "One\n",
      "Two\n",
      "Three\n"
     ]
    }
   ],
   "source": [
    "print(\"One\\nTwo\\nThree\")"
   ]
  },
  {
   "cell_type": "markdown",
   "metadata": {},
   "source": [
    "Newlines will be automatically added for strings that are created using **three quotes**. For example:"
   ]
  },
  {
   "cell_type": "code",
   "execution_count": 5,
   "metadata": {},
   "outputs": [
    {
     "name": "stdout",
     "output_type": "stream",
     "text": [
      "This is a\n",
      "multiline text\n",
      "that spans across\n",
      "multiple lines.\n"
     ]
    }
   ],
   "source": [
    "print(\"\"\"This is a\n",
    "multiline text\n",
    "that spans across\n",
    "multiple lines.\"\"\")"
   ]
  },
  {
   "cell_type": "markdown",
   "metadata": {},
   "source": [
    "**Discussion 02.01**: How many lines of text would be output by the following code?\n",
    "```python\n",
    "print(\"Hi\")\n",
    "print(\"How are\\nyou doing?\")\n",
    "print(\"\"\"This \n",
    "is\n",
    "great\"\"\")\n",
    "```"
   ]
  },
  {
   "cell_type": "code",
   "execution_count": 6,
   "metadata": {},
   "outputs": [
    {
     "name": "stdout",
     "output_type": "stream",
     "text": [
      "Hi\n",
      "How are\n",
      "you doing?\n",
      "This \n",
      "is\n",
      "great\n"
     ]
    }
   ],
   "source": [
    "# 6 lines of text\n",
    "print(\"Hi\")\n",
    "print(\"How are\\nyou doing?\")\n",
    "print(\"\"\"This \n",
    "is\n",
    "great\"\"\")"
   ]
  },
  {
   "cell_type": "markdown",
   "metadata": {},
   "source": [
    "## String Operations"
   ]
  },
  {
   "cell_type": "markdown",
   "metadata": {},
   "source": [
    "As with integers and floats, strings in Python can be added, using a process called **concatenation**, which can be done on any two strings. Even if your strings contain numbers, they are still added as strings rather than integers. However, adding a string to a number produces an error, as even though they might look similar, they are two different entities."
   ]
  },
  {
   "cell_type": "code",
   "execution_count": 7,
   "metadata": {},
   "outputs": [
    {
     "name": "stdout",
     "output_type": "stream",
     "text": [
      "Spam and eggs\n",
      "23\n"
     ]
    }
   ],
   "source": [
    "print(\"Spam\" + \" and \" + \"eggs\")\n",
    "print(\"2\" + \"3\")  # Output is NOT 5\n",
    "# print(2 + \"3\")  # Produces an error"
   ]
  },
  {
   "cell_type": "markdown",
   "metadata": {},
   "source": [
    "Strings can also be multiplied by integers. This produces a repeated version of the original string. The order of the string and the integer doesn't matter, but the string usually comes first."
   ]
  },
  {
   "cell_type": "code",
   "execution_count": 8,
   "metadata": {},
   "outputs": [
    {
     "name": "stdout",
     "output_type": "stream",
     "text": [
      "AAAAA\n",
      "-------\n"
     ]
    }
   ],
   "source": [
    "print(\"A\" * 5)  # Prints 5 'A's in a row\n",
    "print(7 * \"-\")  # Prints 7 '-'s in a row"
   ]
  },
  {
   "cell_type": "markdown",
   "metadata": {},
   "source": [
    "Strings can't be multiplied by other strings. Strings also can't be multiplied by floats, even if the floats are whole numbers."
   ]
  },
  {
   "cell_type": "code",
   "execution_count": 9,
   "metadata": {},
   "outputs": [],
   "source": [
    "# These are invalid\n",
    "# print(7.5 * \"???\")\n",
    "# print(\"A\" * \"B\")"
   ]
  },
  {
   "cell_type": "markdown",
   "metadata": {},
   "source": [
    "**Exercise 02.02**: Write **one** line of code that generates the following text:\n",
    "```\n",
    "*************** Hello World! ***************\n",
    "```\n",
    "*Note: There are __15__ asterisks on each side of `Hello World!`.*"
   ]
  },
  {
   "cell_type": "code",
   "execution_count": 10,
   "metadata": {},
   "outputs": [
    {
     "name": "stdout",
     "output_type": "stream",
     "text": [
      "*************** Hello World! ***************\n"
     ]
    }
   ],
   "source": [
    "print(\"*\" * 15 + \" Hello World! \" + \"*\" * 15)"
   ]
  },
  {
   "cell_type": "markdown",
   "metadata": {},
   "source": [
    "Sometimes we want to ensure that all text in a string is in **uppercase** or **lowercase**. To do so, we use the `.upper()` and `.lower()` methods of strings."
   ]
  },
  {
   "cell_type": "code",
   "execution_count": 11,
   "metadata": {},
   "outputs": [
    {
     "name": "stdout",
     "output_type": "stream",
     "text": [
      "The quick brown Fox jumps over the Lazy Dog\n",
      "THE QUICK BROWN FOX JUMPS OVER THE LAZY DOG\n",
      "the quick brown fox jumps over the lazy dog\n"
     ]
    }
   ],
   "source": [
    "print(\"The quick brown Fox jumps over the Lazy Dog\")          # Normal\n",
    "print(\"The quick brown Fox jumps over the Lazy Dog\".upper())  # Uppercase\n",
    "print(\"The quick brown Fox jumps over the Lazy Dog\".lower())  # Lowercase"
   ]
  },
  {
   "cell_type": "markdown",
   "metadata": {},
   "source": [
    "Numbers, symbols and oher non-alphabetical characters are **unaffected** by `.upper()` and `.lower()`."
   ]
  },
  {
   "cell_type": "code",
   "execution_count": 12,
   "metadata": {},
   "outputs": [
    {
     "name": "stdout",
     "output_type": "stream",
     "text": [
      "We sold 123 laptops today! $$$\n",
      "WE SOLD 123 LAPTOPS TODAY! $$$\n",
      "we sold 123 laptops today! $$$\n"
     ]
    }
   ],
   "source": [
    "print(\"We sold 123 laptops today! $$$\")           # Normal\n",
    "print(\"We sold 123 laptops today! $$$\".upper())   # Uppercase\n",
    "print(\"We sold 123 laptops today! $$$\".lower())   # Lowercase"
   ]
  },
  {
   "cell_type": "markdown",
   "metadata": {},
   "source": [
    "To make text appear in **title case** (that is, the first letter of every word is capitalised), use the `.title()` method."
   ]
  },
  {
   "cell_type": "code",
   "execution_count": 13,
   "metadata": {},
   "outputs": [
    {
     "name": "stdout",
     "output_type": "stream",
     "text": [
      "the fundamental theorem of algebra\n",
      "The Fundamental Theorem Of Algebra\n"
     ]
    }
   ],
   "source": [
    "print(\"the fundamental theorem of algebra\")           # Normal\n",
    "print(\"the fundamental theorem of algebra\".title())   # Title case"
   ]
  },
  {
   "cell_type": "markdown",
   "metadata": {},
   "source": [
    "**Exercise 02.03**: Print the following text in uppercase, lowercase, and in title case.\n",
    "```\n",
    "\"The quick brown fox jumps over the lazy dog\" is an English-language pangram.\n",
    "```"
   ]
  },
  {
   "cell_type": "code",
   "execution_count": 14,
   "metadata": {},
   "outputs": [
    {
     "name": "stdout",
     "output_type": "stream",
     "text": [
      "\"THE QUICK BROWN FOX JUMPS OVER THE LAZY DOG\" IS AN ENGLISH-LANGUAGE PANGRAM.\n",
      "\"the quick brown fox jumps over the lazy dog\" is an english-language pangram.\n",
      "\"The Quick Brown Fox Jumps Over The Lazy Dog\" Is An English-Language Pangram.\n"
     ]
    }
   ],
   "source": [
    "print('\"The quick brown fox jumps over the lazy dog\" is an English-language pangram.'.upper())\n",
    "print('\"The quick brown fox jumps over the lazy dog\" is an English-language pangram.'.lower())\n",
    "print('\"The quick brown fox jumps over the lazy dog\" is an English-language pangram.'.title())"
   ]
  },
  {
   "cell_type": "markdown",
   "metadata": {},
   "source": [
    "Sometimes, text may have leading or trailing spaces. That is to say, that text may come with spaces before or after the actual text, like this:\n",
    "```\n",
    "     there's 5 spaces before this and 2 after this  \n",
    "```\n",
    "To get rid of them, we can use the `.lstrip()` and `.rstrip()` methods to perform **left-stripping** and **right-stripping** respectively."
   ]
  },
  {
   "cell_type": "code",
   "execution_count": 15,
   "metadata": {},
   "outputs": [
    {
     "name": "stdout",
     "output_type": "stream",
     "text": [
      "     there's 5 spaces before this and 2 after this  \n",
      "there's 5 spaces before this and 2 after this  \n",
      "     there's 5 spaces before this and 2 after this\n"
     ]
    }
   ],
   "source": [
    "print(\"     there's 5 spaces before this and 2 after this  \")           # Normal\n",
    "print(\"     there's 5 spaces before this and 2 after this  \".lstrip())  # Left-stripped\n",
    "print(\"     there's 5 spaces before this and 2 after this  \".rstrip())  # Right-stripped"
   ]
  },
  {
   "cell_type": "markdown",
   "metadata": {},
   "source": [
    "You can also perform left and right stripping on other characters. To do so, pass the character as an *argument* to the method.\n",
    "\n",
    "*Note: we'll explain more about arguments in later modules.*"
   ]
  },
  {
   "cell_type": "code",
   "execution_count": 16,
   "metadata": {},
   "outputs": [
    {
     "name": "stdout",
     "output_type": "stream",
     "text": [
      "$$$$$Wow money and stars***\n",
      "Wow money and stars***\n",
      "$$$$$Wow money and stars\n"
     ]
    }
   ],
   "source": [
    "print(\"$$$$$Wow money and stars***\")              # Normal\n",
    "print(\"$$$$$Wow money and stars***\".lstrip(\"$\"))  # Left-stripped by \"$\"\n",
    "print(\"$$$$$Wow money and stars***\".rstrip(\"*\"))  # Right-stripped by \"*\""
   ]
  },
  {
   "cell_type": "markdown",
   "metadata": {},
   "source": [
    "To perform left-stripping and right-stripping simultaneously, we use the `.strip()` method."
   ]
  },
  {
   "cell_type": "code",
   "execution_count": 17,
   "metadata": {},
   "outputs": [
    {
     "name": "stdout",
     "output_type": "stream",
     "text": [
      "     there's 5 spaces before this and 2 after this  \n",
      "there's 5 spaces before this and 2 after this\n"
     ]
    }
   ],
   "source": [
    "print(\"     there's 5 spaces before this and 2 after this  \")           # Normal\n",
    "print(\"     there's 5 spaces before this and 2 after this  \".strip())   # Stripped"
   ]
  },
  {
   "cell_type": "markdown",
   "metadata": {},
   "source": [
    "String methods can be *chained*. That means that you can *call* one string method after another."
   ]
  },
  {
   "cell_type": "code",
   "execution_count": 18,
   "metadata": {},
   "outputs": [
    {
     "name": "stdout",
     "output_type": "stream",
     "text": [
      "***The quick brown Fox jumps over the Lazy Dog***\n",
      "The Quick Brown Fox Jumps Over The Lazy Dog\n",
      "***the quick brown fox jumps over the lazy dog\n"
     ]
    }
   ],
   "source": [
    "print(\"***The quick brown Fox jumps over the Lazy Dog***\")\n",
    "print(\"***The quick brown Fox jumps over the Lazy Dog***\".strip(\"*\").title())\n",
    "print(\"***The quick brown Fox jumps over the Lazy Dog***\".rstrip(\"*\").lower())"
   ]
  },
  {
   "cell_type": "markdown",
   "metadata": {},
   "source": [
    "**Exercise 02.04**: By performing stripping and case-changing operations, convert\n",
    "```\n",
    "  ^^^tHe bOsoNiCaL jOuRnAl$$$$$    \n",
    "```\n",
    "into\n",
    "```\n",
    "The Bosonical Journal\n",
    "```\n",
    "*Note: there are __4__ spaces after `$$$$$`.*"
   ]
  },
  {
   "cell_type": "code",
   "execution_count": 19,
   "metadata": {},
   "outputs": [
    {
     "name": "stdout",
     "output_type": "stream",
     "text": [
      "The Bosonical Journal\n"
     ]
    }
   ],
   "source": [
    "print(\"  ^^^tHe bOsoNiCaL jOuRnAl$$$$$    \".strip().lstrip(\"^\").rstrip(\"$\").title())"
   ]
  },
  {
   "cell_type": "markdown",
   "metadata": {},
   "source": [
    "Sometimes we want to replace parts of a string with another. We can use the `.replace()` method to do so.\n",
    "\n",
    "The *syntax* (that is, format) of the `.replace()` method is as follows:\n",
    "```\n",
    "[Your string here].replace([Thing to replace], [What to replace it with])\n",
    "```\n",
    "Some examples are given below."
   ]
  },
  {
   "cell_type": "code",
   "execution_count": 20,
   "metadata": {},
   "outputs": [
    {
     "name": "stdout",
     "output_type": "stream",
     "text": [
      "Nicely$Formatted$String$I$Know\n",
      "Nicely Formatted String I Know\n",
      "Nicely$Formaed$String$I$Know\n",
      "Nice String I Know\n"
     ]
    }
   ],
   "source": [
    "print(\"Nicely$Formatted$String$I$Know\")\n",
    "print(\"Nicely$Formatted$String$I$Know\".replace(\"$\", \" \"))  # Replace \"$\" with \" \"\n",
    "print(\"Nicely$Formatted$String$I$Know\".replace(\"tt\", \"\"))  # Replace \"tt\" with \"\"\n",
    "print(\"Nicely$Formatted$String$I$Know\".replace(\"$\", \" \").replace(\"Formatted\", \"\").replace(\"ly \", \"\"))"
   ]
  },
  {
   "cell_type": "markdown",
   "metadata": {},
   "source": [
    "**Exercise 02.05**: Remove all 'garbage' (that is, both upper and lowercase forms of the characters `q`, `w`, and `e`, as well as any leading/trailing spaces) from the string below and print the result in title case.\n",
    "```\n",
    "     QwEEhqoQeeWewEoeqQEWrweQaqyEEwWqwEe     \n",
    "```"
   ]
  },
  {
   "cell_type": "code",
   "execution_count": 21,
   "metadata": {},
   "outputs": [
    {
     "name": "stdout",
     "output_type": "stream",
     "text": [
      "Hooray\n"
     ]
    }
   ],
   "source": [
    "print(\"     QwEEhqoQeeWewEoeqQEWrweQaqyEEwWqwEe     \".strip().lower().replace(\"q\", \"\").replace(\"w\", \"\").replace(\"e\", \"\").title())"
   ]
  },
  {
   "cell_type": "markdown",
   "metadata": {},
   "source": [
    "## Variables"
   ]
  },
  {
   "cell_type": "markdown",
   "metadata": {},
   "source": [
    "A variable allows you to store a value by assigning it to a name, which can be used to refer to the value later in the program.\n",
    "For example, in game development, you would use a variable to store the points of the player.\n",
    "To assign a variable, use **one** equals sign (`=`). For example, this is how we assign the variable `user` to the string `James`."
   ]
  },
  {
   "cell_type": "code",
   "execution_count": 22,
   "metadata": {},
   "outputs": [],
   "source": [
    "user = \"James\""
   ]
  },
  {
   "cell_type": "markdown",
   "metadata": {},
   "source": [
    "*Note: this code __doesn't print anything to the screen__ because we didn't actually output anything. We need to call the `print` function (or other related methods) to see output.*"
   ]
  },
  {
   "cell_type": "markdown",
   "metadata": {},
   "source": [
    "Certain restrictions apply in regard to the characters that may be used in Python variable names. The only characters that are allowed are **letters, numbers, and underscores**. Also, they **can't start with numbers**. Not following these rules will result in an error."
   ]
  },
  {
   "cell_type": "code",
   "execution_count": 23,
   "metadata": {},
   "outputs": [],
   "source": [
    "# These are valid variables names\n",
    "this_is_an_okay_name = \"Yay!\"\n",
    "thisIsAlsoValid = \"Yay!\"\n",
    "VALID_AS_WELL = \"Yay!\"\n",
    "\n",
    "# The following are not valid and are thus commented out\n",
    "# 123 = \"Boo!\"\n",
    "# 1thisIsNot = \"Boo!\"\n",
    "# . = \"Boo!\"\n",
    "# this is definitely not valid = \"Boo!\""
   ]
  },
  {
   "cell_type": "markdown",
   "metadata": {},
   "source": [
    "**Discussion 02.02**: Which of the following are valid variable names?\n",
    "- `helloWorld`\n",
    "- `@here@`\n",
    "- `_class`\n",
    "- `*multiplier*`\n",
    "- `index12`\n",
    "- `21stIndex`\n",
    "- `H`\n",
    "- `-`\n",
    "- `_`\n",
    "- `number;`\n",
    "\n",
    "Check your answer by declaring these variables and assigning them to the value of `\"Spam\"`, and seeing what output is shown. For example:\n",
    "```python\n",
    "helloWorld = \"Spam\"\n",
    "```"
   ]
  },
  {
   "cell_type": "code",
   "execution_count": 24,
   "metadata": {},
   "outputs": [],
   "source": [
    "helloWorld = \"Spam\"  # Valid\n",
    "# @here@ = \"Spam\"  # Invalid\n",
    "_class = \"Spam\"  # Valid\n",
    "# *multiplier* = \"Spam\"  # Invalid\n",
    "index12 = \"Spam\"  # Valid\n",
    "# 21stIndex = \"Spam\"  # Invalid\n",
    "H = \"Spam\"  # Valid\n",
    "# - = \"Spam\"  # Invalid\n",
    "_ = \"Spam\"  # Valid\n",
    "# number; = \"Spam\"  # Invalid"
   ]
  },
  {
   "cell_type": "markdown",
   "metadata": {},
   "source": [
    "Variable names have one more restriction: they can't be a **reserved keyword**. Some examples of reserved keywords are:\n",
    "- `break`\n",
    "- `class`\n",
    "- `if`\n",
    "- `elif`\n",
    "- `finally`\n",
    "- `import`\n",
    "- `while`\n",
    "\n",
    "You'll come across more reserved keywords in the future."
   ]
  },
  {
   "cell_type": "code",
   "execution_count": 25,
   "metadata": {},
   "outputs": [],
   "source": [
    "# All these are invalid variable names; try uncommenting these lines and see their output\n",
    "# class = 1\n",
    "# break = 0.5\n",
    "# finally = \"done\"\n",
    "# import = \"banana\""
   ]
  },
  {
   "cell_type": "markdown",
   "metadata": {},
   "source": [
    "Variable names also tend to follow naming conventions. The following are some variable naming styles:\n",
    "\n",
    "- `lowercase`\n",
    "- `lowercase_with_underscores`\n",
    "- `UPPERCASE`\n",
    "- `UPPERCASE_WITH_UNDERSCORES`\n",
    "- `CamelCase` (Where the first letter of every word is capitalised)\n",
    "- `mixedCase` (Different from CamelCase in the sense that the first letter is **not** capitalised)\n",
    "\n",
    "One style to avoid is `Capitalized_Words_With_Underscores` as it is ugly."
   ]
  },
  {
   "cell_type": "markdown",
   "metadata": {},
   "source": [
    "## Working With Variables"
   ]
  },
  {
   "cell_type": "markdown",
   "metadata": {},
   "source": [
    "You can use variables to perform corresponding operations, just as you did with numbers and strings. Variables stores their value throughout the program."
   ]
  },
  {
   "cell_type": "code",
   "execution_count": 26,
   "metadata": {},
   "outputs": [
    {
     "name": "stdout",
     "output_type": "stream",
     "text": [
      "7\n",
      "10\n",
      "35\n",
      "Spam\n",
      "Spam and eggs\n",
      "SpamSpamSpamSpamSpamSpamSpam\n"
     ]
    }
   ],
   "source": [
    "myInteger = 7\n",
    "print(myInteger)\n",
    "print(myInteger + 3)\n",
    "print(myInteger * 5)\n",
    "\n",
    "myString = \"Spam\"\n",
    "print(myString)\n",
    "print(myString + \" and eggs\")\n",
    "print(myString * myInteger)"
   ]
  },
  {
   "cell_type": "markdown",
   "metadata": {},
   "source": [
    "Variables can be reassigned as many times as you want, in order to change their value. \n",
    "In Python, variables don't have specific types, so you can assign a string to a variable, and later assign an integer to the same variable."
   ]
  },
  {
   "cell_type": "code",
   "execution_count": 27,
   "metadata": {},
   "outputs": [
    {
     "name": "stdout",
     "output_type": "stream",
     "text": [
      "3\n",
      "New String\n"
     ]
    }
   ],
   "source": [
    "x = 3\n",
    "print(x)\n",
    "\n",
    "x = \"New String\"\n",
    "print(x)"
   ]
  },
  {
   "cell_type": "markdown",
   "metadata": {},
   "source": [
    "However, it is not good practice. To avoid mistakes, try to avoid overwriting the same variable with different data types."
   ]
  },
  {
   "cell_type": "markdown",
   "metadata": {},
   "source": [
    "**Exercise 02.06**: Fill in the blanks below to make the program output the float `7.5`."
   ]
  },
  {
   "cell_type": "code",
   "execution_count": 28,
   "metadata": {},
   "outputs": [
    {
     "name": "stdout",
     "output_type": "stream",
     "text": [
      "7.5\n"
     ]
    }
   ],
   "source": [
    "# There are multiple solutions, the intended one is as follows\n",
    "x = 15\n",
    "y = 2\n",
    "x = x / y\n",
    "print(x)"
   ]
  },
  {
   "cell_type": "markdown",
   "metadata": {},
   "source": [
    "## Assignment 02A\n",
    "### Task\n",
    "- Create two variables, `string` and `integer`.\n",
    "- Assign the string `***YooooooAoooooYooo-----` to the variable `string`.\n",
    "- Assign the integer `5` to `integer`.\n",
    "- Use string methods to keep only the alphabetical characters in `string`. Then remove all `o`s in the resulting string. Assign the result back to `string`.\n",
    "- Increment the value of `integer` by 3.\n",
    "- Output the value of `string * integer`."
   ]
  },
  {
   "cell_type": "code",
   "execution_count": 29,
   "metadata": {},
   "outputs": [
    {
     "name": "stdout",
     "output_type": "stream",
     "text": [
      "YAYYAYYAYYAYYAYYAYYAYYAY\n"
     ]
    }
   ],
   "source": [
    "string = \"***YooooooAoooooYooo-----\"\n",
    "integer = 5\n",
    "\n",
    "string = string.lstrip(\"*\").rstrip(\"-\").replace(\"o\", \"\")\n",
    "integer = integer + 3\n",
    "\n",
    "print(string * integer)"
   ]
  },
  {
   "cell_type": "markdown",
   "metadata": {},
   "source": [
    "## Input"
   ]
  },
  {
   "cell_type": "markdown",
   "metadata": {},
   "source": [
    "To get input from the user in Python, you can use the intuitively named `input` function. \n",
    "For example, a game can ask for the user's name and age as input and use them in the game.\n",
    "\n",
    "The input function prompts the user for input, and returns what they enter as a **string** (with the contents automatically escaped). Even if the user enters a number as input, it is processed as a string."
   ]
  },
  {
   "cell_type": "code",
   "execution_count": 30,
   "metadata": {},
   "outputs": [
    {
     "name": "stdout",
     "output_type": "stream",
     "text": [
      "Enter your input: Hello World!\n",
      "Hello World!\n",
      "There's no prompt\n",
      "There's no prompt\n"
     ]
    }
   ],
   "source": [
    "userInput = input(\"Enter your input: \")\n",
    "print(userInput)\n",
    "\n",
    "noPromptInput = input()\n",
    "print(noPromptInput)"
   ]
  },
  {
   "cell_type": "markdown",
   "metadata": {},
   "source": [
    "Note that the `input()` function can be used multiple times to get multiple inputs."
   ]
  },
  {
   "cell_type": "markdown",
   "metadata": {},
   "source": [
    "**Excersise 02.07**: Write a program that takes in user input (as a string) and multiplies that string by 3."
   ]
  },
  {
   "cell_type": "code",
   "execution_count": 31,
   "metadata": {},
   "outputs": [
    {
     "name": "stdout",
     "output_type": "stream",
     "text": [
      "Enter a string: String\n",
      "StringStringString\n"
     ]
    }
   ],
   "source": [
    "inputString = input(\"Enter a string: \")\n",
    "print(inputString * 3)"
   ]
  },
  {
   "cell_type": "markdown",
   "metadata": {},
   "source": [
    "## Typecasting"
   ]
  },
  {
   "cell_type": "markdown",
   "metadata": {},
   "source": [
    "Since the `input` function **always returns a string**, how do we get numbers (integers/floats) as input?\n",
    "\n",
    "We can *typecast* the input string as a number!\n",
    "\n",
    "To typecast the input string to an integer, we can use the `int()` function."
   ]
  },
  {
   "cell_type": "code",
   "execution_count": 32,
   "metadata": {},
   "outputs": [
    {
     "name": "stdout",
     "output_type": "stream",
     "text": [
      "Enter your age here: 43\n",
      "43\n"
     ]
    }
   ],
   "source": [
    "age = input(\"Enter your age here: \")\n",
    "age = int(age)  # Typecasts the string `age` to an integer\n",
    "print(age)"
   ]
  },
  {
   "cell_type": "markdown",
   "metadata": {},
   "source": [
    "You can convert strings (or integers) to float using the `float()` function."
   ]
  },
  {
   "cell_type": "code",
   "execution_count": 33,
   "metadata": {},
   "outputs": [
    {
     "name": "stdout",
     "output_type": "stream",
     "text": [
      "7.0\n"
     ]
    }
   ],
   "source": [
    "myFloat = float(7)  # 7 is an integer but we typecast it to a float\n",
    "print(myFloat)"
   ]
  },
  {
   "cell_type": "markdown",
   "metadata": {},
   "source": [
    "We can also convert integers/floats to strings by using the `str()` function."
   ]
  },
  {
   "cell_type": "code",
   "execution_count": 34,
   "metadata": {},
   "outputs": [
    {
     "name": "stdout",
     "output_type": "stream",
     "text": [
      "String of 42:   42\n",
      "String of 3.14: 3.14\n"
     ]
    }
   ],
   "source": [
    "print(\"String of 42:   \" + str(42))\n",
    "print(\"String of 3.14: \" + str(3.14))"
   ]
  },
  {
   "cell_type": "markdown",
   "metadata": {},
   "source": [
    "**Exersise 02.08**: Write code that takes in an integer and a float as input and outputs their sum."
   ]
  },
  {
   "cell_type": "code",
   "execution_count": 35,
   "metadata": {},
   "outputs": [
    {
     "name": "stdout",
     "output_type": "stream",
     "text": [
      "Enter an integer:  42\n",
      "Enter a float: 3.14\n",
      "45.14\n"
     ]
    }
   ],
   "source": [
    "myInt = int(input(\"Enter an integer:  \"))\n",
    "myFloat = float(input(\"Enter a float: \"))\n",
    "\n",
    "print(myInt + myFloat)"
   ]
  },
  {
   "cell_type": "markdown",
   "metadata": {},
   "source": [
    "## In-Place Operators"
   ]
  },
  {
   "cell_type": "markdown",
   "metadata": {},
   "source": [
    "In-place operators allow you to write code like `x = x + 3` more concisely, as `x += 3`. \n",
    "\n",
    "\n",
    "The same thing is possible with other operators such as `-`, `*`, `/`, `//`, and `%` as well."
   ]
  },
  {
   "cell_type": "code",
   "execution_count": 36,
   "metadata": {},
   "outputs": [
    {
     "name": "stdout",
     "output_type": "stream",
     "text": [
      "2\n",
      "5\n",
      "4\n",
      "16\n",
      "8\n",
      "2.0\n"
     ]
    }
   ],
   "source": [
    "x = 2\n",
    "print(x)\n",
    "\n",
    "x += 3  # Increment `x` by 3\n",
    "print(x)\n",
    "\n",
    "x -= 1  # Decrement `x` by 1\n",
    "print(x)\n",
    "\n",
    "x *= 4  # Multiply `x` by 4\n",
    "print(x)\n",
    "\n",
    "x //= 2  # Floor divide `x` by 2\n",
    "print(x)\n",
    "\n",
    "x /= 4  # Divide `x` by 4\n",
    "print(x)"
   ]
  },
  {
   "cell_type": "markdown",
   "metadata": {},
   "source": [
    "These operators can be used on types other than numbers, as well, such as strings."
   ]
  },
  {
   "cell_type": "code",
   "execution_count": 37,
   "metadata": {},
   "outputs": [
    {
     "name": "stdout",
     "output_type": "stream",
     "text": [
      "Hello\n",
      "HelloHelloHello\n",
      "HelloHelloHello World!\n"
     ]
    }
   ],
   "source": [
    "s = \"Hello\"\n",
    "print(s)\n",
    "\n",
    "s *= 3  # Multiply the string `s` by 3\n",
    "print(s)\n",
    "\n",
    "s += \" World!\"  # Add the string \" World!\" to the end of the string `s`\n",
    "print(s)"
   ]
  },
  {
   "cell_type": "markdown",
   "metadata": {},
   "source": [
    "## Assignment 02B\n",
    "### Task\n",
    "Write a program that takes in two **floats** as input and returns their sum and difference.\n",
    "\n",
    "For example, if the first float is `2.3` and the second float is `4.5`, print out `6.8` on the first line and `-2.2` on the second.\n",
    "\n",
    "*You may assume that the input will __always be floats__.*\n",
    "\n",
    "### Sample Input\n",
    "```\n",
    "2.3\n",
    "4.5\n",
    "```\n",
    "\n",
    "### Sample Output\n",
    "```\n",
    "6.8\n",
    "-2.2\n",
    "```"
   ]
  },
  {
   "cell_type": "code",
   "execution_count": 38,
   "metadata": {},
   "outputs": [
    {
     "name": "stdout",
     "output_type": "stream",
     "text": [
      "Enter float number 1: 123.4\n",
      "Enter float number 2: 567.8\n",
      "691.1999999999999\n",
      "-444.4\n"
     ]
    }
   ],
   "source": [
    "a = float(input(\"Enter float number 1: \"))\n",
    "b = float(input(\"Enter float number 2: \"))\n",
    "\n",
    "print(a + b)\n",
    "print(a - b)"
   ]
  }
 ],
 "metadata": {},
 "nbformat": 4,
 "nbformat_minor": 1
}
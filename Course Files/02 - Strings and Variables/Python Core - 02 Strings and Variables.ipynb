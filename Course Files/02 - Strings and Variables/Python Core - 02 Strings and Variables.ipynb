{
 "nbformat": 4,
 "nbformat_minor": 0,
 "metadata": {},
 "cells": [
  {
   "cell_type": "markdown",
   "source": [
    "# 02 - Strings and Variables"
   ],
   "metadata": {}
  },
  {
   "cell_type": "markdown",
   "source": [
    "## Strings"
   ],
   "metadata": {}
  },
  {
   "cell_type": "markdown",
   "source": [
    "If you want to use text in Python, you have to use a string. A string is created by entering text between two single or double quotation marks."
   ],
   "metadata": {}
  },
  {
   "cell_type": "code",
   "source": [
    "print(\"This is a string!\")\n",
    "print('So is this.')"
   ],
   "metadata": {},
   "execution_count": null,
   "outputs": []
  },
  {
   "cell_type": "markdown",
   "source": [
    "Some characters can't be directly included in a string. For instance, double quotes can't be directly included in a double quote string; this would cause it to end prematurely.\n",
    "\n",
    "Characters like these must be escaped by placing a backslash before them.\n",
    "Double quotes only need to be escaped in double quote strings, and the same is true for single quote strings."
   ],
   "metadata": {}
  },
  {
   "cell_type": "code",
   "source": [
    "print('It\\'s a beautiful day!')\n",
    "print(\"He said: \\\"This is a quote in a quote\\\".\")"
   ],
   "metadata": {},
   "execution_count": null,
   "outputs": []
  },
  {
   "cell_type": "markdown",
   "source": [
    "Backslashes can also be used to escape tabs, arbitrary Unicode characters, and various other things that can't be reliably printed."
   ],
   "metadata": {}
  },
  {
   "cell_type": "markdown",
   "source": [
    "**Exercise 02.01**: Print the following string.\n",
    "> Alice was beginning to get very tired of sitting by her sister on the bank, and of having nothing to do: once or twice she had peeped into her sister's book, but it had no pictures or conversations in it, \"and what is the use of a book,\" thought Alice, \"without pictures or conversations?\""
   ],
   "metadata": {}
  },
  {
   "cell_type": "code",
   "source": [
    "# Write your code here"
   ],
   "metadata": {},
   "execution_count": null,
   "outputs": []
  },
  {
   "cell_type": "markdown",
   "source": [
    "In a string, `\\n` represents a new line. It can be used in strings to create multi-line output."
   ],
   "metadata": {}
  },
  {
   "cell_type": "code",
   "source": [
    "print(\"One\\nTwo\\nThree\")"
   ],
   "metadata": {},
   "execution_count": null,
   "outputs": [
    {
     "output_type": "stream",
     "name": "stdout",
     "text": [
      "One\n",
      "Two\n",
      "Three\n"
     ]
    }
   ]
  },
  {
   "cell_type": "markdown",
   "source": [
    "Newlines will be automatically added for strings that are created using **three quotes**. For example:"
   ],
   "metadata": {}
  },
  {
   "cell_type": "code",
   "source": [
    "print(\"\"\"This is a\n",
    "multiline text\n",
    "that spans across\n",
    "multiple lines.\"\"\")"
   ],
   "metadata": {},
   "execution_count": null,
   "outputs": []
  },
  {
   "cell_type": "markdown",
   "source": [
    "**Discussion 02.01**: How many lines of text would be output by the following code?\n",
    "```python\n",
    "print(\"Hi\")\n",
    "print(\"How are\\nyou doing?\")\n",
    "print(\"\"\"This \n",
    "is\n",
    "great\"\"\")\n",
    "```"
   ],
   "metadata": {}
  },
  {
   "cell_type": "code",
   "source": [
    "# Try out the code here"
   ],
   "metadata": {},
   "execution_count": null,
   "outputs": []
  },
  {
   "cell_type": "markdown",
   "source": [
    "## String Operations"
   ],
   "metadata": {}
  },
  {
   "cell_type": "markdown",
   "source": [
    "As with integers and floats, strings in Python can be added, using a process called **concatenation**, which can be done on any two strings. Even if your strings contain numbers, they are still added as strings rather than integers. However, adding a string to a number produces an error, as even though they might look similar, they are two different entities."
   ],
   "metadata": {}
  },
  {
   "cell_type": "code",
   "source": [
    "print(\"Spam\" + \" and \" + \"eggs\")\n",
    "print(\"2\" + \"3\")  # Output is NOT 5\n",
    "# print(2 + \"3\")  # Produces an error"
   ],
   "metadata": {},
   "execution_count": null,
   "outputs": [
    {
     "output_type": "stream",
     "name": "stdout",
     "text": [
      "Spam and eggs\n",
      "23\n"
     ]
    }
   ]
  },
  {
   "cell_type": "markdown",
   "source": [
    "Strings can also be multiplied by integers. This produces a repeated version of the original string. The order of the string and the integer doesn't matter, but the string usually comes first."
   ],
   "metadata": {}
  },
  {
   "cell_type": "code",
   "source": [
    "print(\"A\" * 5)  # Prints 5 'A's in a row\n",
    "print(7 * \"-\")  # Prints 7 '-'s in a row"
   ],
   "metadata": {},
   "execution_count": null,
   "outputs": [
    {
     "output_type": "stream",
     "name": "stdout",
     "text": [
      "AAAAA\n",
      "-------\n"
     ]
    }
   ]
  },
  {
   "cell_type": "markdown",
   "source": [
    "Strings can't be multiplied by other strings. Strings also can't be multiplied by floats, even if the floats are whole numbers."
   ],
   "metadata": {}
  },
  {
   "cell_type": "code",
   "source": [
    "# These are invalid\n",
    "# print(7.5 * \"???\")\n",
    "# print(\"A\" * \"B\")"
   ],
   "metadata": {},
   "execution_count": null,
   "outputs": []
  },
  {
   "cell_type": "markdown",
   "source": [
    "**Exercise 02.02**: Write **one** line of code that generates the following text:\n",
    "```\n",
    "*************** Hello World! ***************\n",
    "```\n",
    "*Note: There are __15__ asterisks on each side of `Hello World!`.*"
   ],
   "metadata": {}
  },
  {
   "cell_type": "code",
   "source": [
    "# Write your code here"
   ],
   "metadata": {},
   "execution_count": null,
   "outputs": []
  },
  {
   "cell_type": "markdown",
   "source": [
    "Sometimes we want to ensure that all text in a string is in **uppercase** or **lowercase**. To do so, we use the `.upper()` and `.lower()` methods of strings."
   ],
   "metadata": {}
  },
  {
   "cell_type": "code",
   "source": [
    "print(\"The quick brown Fox jumps over the Lazy Dog\")          # Normal\n",
    "print(\"The quick brown Fox jumps over the Lazy Dog\".upper())  # Uppercase\n",
    "print(\"The quick brown Fox jumps over the Lazy Dog\".lower())  # Lowercase"
   ],
   "metadata": {},
   "execution_count": null,
   "outputs": [
    {
     "output_type": "stream",
     "name": "stdout",
     "text": [
      "The quick brown Fox jumps over the Lazy Dog.\n",
      "THE QUICK BROWN FOX JUMPS OVER THE LAZY DOG.\n",
      "the quick brown fox jumps over the lazy dog.\n"
     ]
    }
   ]
  },
  {
   "cell_type": "markdown",
   "source": [
    "Numbers, symbols and oher non-alphabetical characters are **unaffected** by `.upper()` and `.lower()`."
   ],
   "metadata": {}
  },
  {
   "cell_type": "code",
   "source": [
    "print(\"We sold 123 laptops today! $$$\")           # Normal\n",
    "print(\"We sold 123 laptops today! $$$\".upper())   # Uppercase\n",
    "print(\"We sold 123 laptops today! $$$\".lower())   # Lowercase"
   ],
   "metadata": {},
   "execution_count": null,
   "outputs": [
    {
     "output_type": "stream",
     "name": "stdout",
     "text": [
      "We sold 123 laptops today! $$$\n",
      "WE SOLD 123 LAPTOPS TODAY! $$$\n",
      "we sold 123 laptops today! $$$\n"
     ]
    }
   ]
  },
  {
   "cell_type": "markdown",
   "source": [
    "To make text appear in **title case** (that is, the first letter of every word is capitalised), use the `.title()` method."
   ],
   "metadata": {}
  },
  {
   "cell_type": "code",
   "source": [
    "print(\"the fundamental theorem of algebra\")           # Normal\n",
    "print(\"the fundamental theorem of algebra\".title())   # Title case"
   ],
   "metadata": {},
   "execution_count": null,
   "outputs": [
    {
     "output_type": "stream",
     "name": "stdout",
     "text": [
      "the fundamental theorem of algebra\n",
      "The Fundamental Theorem Of Algebra\n"
     ]
    }
   ]
  },
  {
   "cell_type": "markdown",
   "source": [
    "**Exercise 02.03**: Print the following text in uppercase, lowercase, and in title case.\n",
    "```\n",
    "\"The quick brown fox jumps over the lazy dog\" is an English-language pangram.\n",
    "```"
   ],
   "metadata": {}
  },
  {
   "cell_type": "code",
   "source": [
    "# Write your code here"
   ],
   "metadata": {},
   "execution_count": null,
   "outputs": []
  },
  {
   "cell_type": "markdown",
   "source": [
    "Sometimes, text may have leading or trailing spaces. That is to say, that text may come with spaces before or after the actual text, like this:\n",
    "```\n",
    "     there's 5 spaces before this and 2 after this  \n",
    "```\n",
    "To get rid of them, we can use the `.lstrip()` and `.rstrip()` methods to perform **left-stripping** and **right-stripping** respectively."
   ],
   "metadata": {}
  },
  {
   "cell_type": "code",
   "source": [
    "print(\"     there's 5 spaces before this and 2 after this  \")           # Normal\n",
    "print(\"     there's 5 spaces before this and 2 after this  \".lstrip())  # Left-stripped\n",
    "print(\"     there's 5 spaces before this and 2 after this  \".rstrip())  # Right-stripped"
   ],
   "metadata": {},
   "execution_count": null,
   "outputs": [
    {
     "output_type": "stream",
     "name": "stdout",
     "text": [
      "     there's 5 spaces before this and 2 after this  \n",
      "there's 5 spaces before this and 2 after this  \n",
      "     there's 5 spaces before this and 2 after this\n"
     ]
    }
   ]
  },
  {
   "cell_type": "markdown",
   "source": [
    "You can also perform left and right stripping on other characters. To do so, pass the character as an *argument* to the method.\n",
    "\n",
    "*Note: we'll explain more about arguments in later sections.*"
   ],
   "metadata": {}
  },
  {
   "cell_type": "code",
   "source": [
    "print(\"$$$$$Wow money and stars***\")              # Normal\n",
    "print(\"$$$$$Wow money and stars***\".lstrip(\"$\"))  # Left-stripped by \"$\"\n",
    "print(\"$$$$$Wow money and stars***\".rstrip(\"*\"))  # Right-stripped by \"*\""
   ],
   "metadata": {},
   "execution_count": null,
   "outputs": [
    {
     "output_type": "stream",
     "name": "stdout",
     "text": [
      "$$$$$Wow money and stars***\n",
      "Wow money and stars***\n",
      "$$$$$Wow money and stars\n"
     ]
    }
   ]
  },
  {
   "cell_type": "markdown",
   "source": [
    "To perform left-stripping and right-stripping simultaneously, we use the `.strip()` method."
   ],
   "metadata": {}
  },
  {
   "cell_type": "code",
   "source": [
    "print(\"     there's 5 spaces before this and 2 after this  \")           # Normal\n",
    "print(\"     there's 5 spaces before this and 2 after this  \".strip())   # Stripped"
   ],
   "metadata": {},
   "execution_count": null,
   "outputs": [
    {
     "output_type": "stream",
     "name": "stdout",
     "text": [
      "     there's 5 spaces before this and 2 after this  \n",
      "there's 5 spaces before this and 2 after this\n"
     ]
    }
   ]
  },
  {
   "cell_type": "markdown",
   "source": [
    "String methods can be *chained*. That means that you can *call* one string method after another."
   ],
   "metadata": {}
  },
  {
   "cell_type": "code",
   "source": [
    "print(\"***The quick brown Fox jumps over the Lazy Dog***\")\n",
    "print(\"***The quick brown Fox jumps over the Lazy Dog***\".strip(\"*\").title())\n",
    "print(\"***The quick brown Fox jumps over the Lazy Dog***\".rstrip(\"*\").lower())"
   ],
   "metadata": {},
   "execution_count": null,
   "outputs": [
    {
     "output_type": "stream",
     "name": "stdout",
     "text": [
      "***The quick brown Fox jumps over the Lazy Dog***\n",
      "The Quick Brown Fox Jumps Over The Lazy Dog\n",
      "***the quick brown fox jumps over the lazy dog\n"
     ]
    }
   ]
  },
  {
   "cell_type": "markdown",
   "source": [
    "**Exercise 02.04**: By performing stripping and case-changing operations, convert\n",
    "```\n",
    "  ^^^tHe bOsoNiCaL jOuRnAl$$$$$    \n",
    "```\n",
    "into\n",
    "```\n",
    "The Bosonical Journal\n",
    "```\n",
    "*Note: there are __4__ spaces after `$$$$$`.*"
   ],
   "metadata": {}
  },
  {
   "cell_type": "code",
   "source": [
    "# Write your code here"
   ],
   "metadata": {},
   "execution_count": null,
   "outputs": []
  },
  {
   "cell_type": "markdown",
   "source": [
    "Sometimes we want to replace parts of a string with another. We can use the `.replace()` method to do so.\n",
    "\n",
    "The *syntax* (that is, format) of the `.replace()` method is as follows:\n",
    "```\n",
    "[Your string here].replace([Thing to replace], [What to replace it with])\n",
    "```\n",
    "Some examples are given below."
   ],
   "metadata": {}
  },
  {
   "cell_type": "code",
   "source": [
    "print(\"Nicely$Formatted$String$I$Know\")\n",
    "print(\"Nicely$Formatted$String$I$Know\".replace(\"$\", \" \"))  # Replace \"$\" with \" \"\n",
    "print(\"Nicely$Formatted$String$I$Know\".replace(\"tt\", \"\"))  # Replace \"tt\" with \"\"\n",
    "print(\"Nicely$Formatted$String$I$Know\".replace(\"$\", \" \").replace(\"Formatted\", \"\").replace(\"ly \", \"\"))  # Replace three things, one ater the other"
   ],
   "metadata": {},
   "execution_count": null,
   "outputs": [
    {
     "output_type": "stream",
     "name": "stdout",
     "text": [
      "Nicely$Formatted$String$I$Know\n",
      "Nicely Formatted String I Know\n",
      "Nicely$Formaed$String$I$Know\n",
      "Nice String I Know\n"
     ]
    }
   ]
  },
  {
   "cell_type": "markdown",
   "source": [
    "**Exercise 02.05**: Remove all 'garbage' (that is, both upper and lowercase forms of the characters `q`, `w`, and `e`, as well as any leading/trailing spaces) from the string below and print the result in title case.\n",
    "```\n",
    "     QwEEhqoQeeWewEoeqQEWrweQaqyEEwWqwEe     \n",
    "```"
   ],
   "metadata": {}
  },
  {
   "cell_type": "code",
   "source": [
    "# Write your code here"
   ],
   "metadata": {},
   "execution_count": null,
   "outputs": []
  },
  {
   "cell_type": "markdown",
   "source": [
    "## Variables"
   ],
   "metadata": {}
  },
  {
   "cell_type": "markdown",
   "source": [
    "A variable allows you to store a value by assigning it to a name, which can be used to refer to the value later in the program.\n",
    "For example, in game development, you would use a variable to store the points of the player.\n",
    "To assign a variable, use **one** equals sign (`=`). For example, this is how we assign the variable `user` to the string `James`."
   ],
   "metadata": {}
  },
  {
   "cell_type": "code",
   "source": [
    "user = \"James\""
   ],
   "metadata": {},
   "execution_count": null,
   "outputs": []
  },
  {
   "cell_type": "markdown",
   "source": [
    "*Note: this code __doesn't print anything to the screen__ because we didn't actually output anything. We need to call the `print` function (or other related methods) to see output.*"
   ],
   "metadata": {}
  },
  {
   "cell_type": "markdown",
   "source": [
    "Certain restrictions apply in regard to the characters that may be used in Python variable names. The only characters that are allowed are **letters, numbers, and underscores**. Also, they **can't start with numbers**. Not following these rules will result in an error."
   ],
   "metadata": {}
  },
  {
   "cell_type": "code",
   "source": [
    "# These are valid variables names\n",
    "this_is_an_okay_name = \"Yay!\"\n",
    "thisIsAlsoValid = \"Yay!\"\n",
    "VALID_AS_WELL = \"Yay!\"\n",
    "\n",
    "# The following are not valid and are thus commented out\n",
    "# 123 = \"Boo!\"\n",
    "# 1thisIsNot = \"Boo!\"\n",
    "# . = \"Boo!\"\n",
    "# this is definitely not = \"Boo!\""
   ],
   "metadata": {},
   "execution_count": null,
   "outputs": []
  },
  {
   "cell_type": "markdown",
   "source": [
    "**Discussion 02.02**: Which of the following are valid variable names?\n",
    "- `helloWorld`\n",
    "- `@here@`\n",
    "- `_class`\n",
    "- `*multiplier*`\n",
    "- `index12`\n",
    "- `21stIndex`\n",
    "- `H`\n",
    "- `-`\n",
    "- `_`\n",
    "- `number;`\n",
    "\n",
    "Check your answer by declaring these variables and assigning them to the value of `\"Spam\"`, and seeing what output is shown. For example:\n",
    "```python\n",
    "helloWorld = \"Spam\"\n",
    "```"
   ],
   "metadata": {}
  },
  {
   "cell_type": "code",
   "source": [
    "# Try out your code here"
   ],
   "metadata": {},
   "execution_count": null,
   "outputs": []
  },
  {
   "cell_type": "markdown",
   "source": [
    "Variable names have one more restriction: they can't be a **reserved keyword**. Some examples of reserved keywords are:\n",
    "- `break`\n",
    "- `class`\n",
    "- `if`\n",
    "- `elif`\n",
    "- `finally`\n",
    "- `import`\n",
    "- `while`\n",
    "\n",
    "You'll come across more reserved keywords in the future."
   ],
   "metadata": {}
  },
  {
   "cell_type": "code",
   "source": [
    "# All these are invalid variable names; try uncommenting these lines and see their output\n",
    "# class = 1\n",
    "# break = 0.5\n",
    "# finally = \"done\"\n",
    "# import = \"banana\""
   ],
   "metadata": {},
   "execution_count": null,
   "outputs": []
  },
  {
   "cell_type": "markdown",
   "source": [
    "Variable names also tend to follow naming conventions. The following are some variable naming styles:\n",
    "\n",
    "- `lowercase`\n",
    "- `lowercase_with_underscores`\n",
    "- `UPPERCASE`\n",
    "- `UPPERCASE_WITH_UNDERSCORES`\n",
    "- `CamelCase` (Where the first letter of every word is capitalised)\n",
    "- `mixedCase` (Different from CamelCase in the sense that the first letter is **not** capitalised)\n",
    "\n",
    "One style to avoid is `Capitalized_Words_With_Underscores` as it is ugly."
   ],
   "metadata": {}
  },
  {
   "cell_type": "markdown",
   "source": [
    "## Working With Variables"
   ],
   "metadata": {}
  },
  {
   "cell_type": "markdown",
   "source": [
    "You can use variables to perform corresponding operations, just as you did with numbers and strings. Variables stores their value throughout the program."
   ],
   "metadata": {}
  },
  {
   "cell_type": "code",
   "source": [
    "myInteger = 7\n",
    "print(myInteger)\n",
    "print(myInteger + 3)\n",
    "print(myInteger * 5)\n",
    "\n",
    "myString = \"Spam\"\n",
    "print(myString)\n",
    "print(myString + \" and eggs\")\n",
    "print(myString * myInteger)"
   ],
   "metadata": {},
   "execution_count": null,
   "outputs": [
    {
     "output_type": "stream",
     "name": "stdout",
     "text": [
      "7\n",
      "10\n",
      "35\n",
      "Spam\n",
      "Spam and eggs\n",
      "SpamSpamSpamSpamSpamSpamSpam\n"
     ]
    }
   ]
  },
  {
   "cell_type": "markdown",
   "source": [
    "Variables can be reassigned as many times as you want, in order to change their value. \n",
    "In Python, variables don't have specific types, so you can assign a string to a variable, and later assign an integer to the same variable."
   ],
   "metadata": {}
  },
  {
   "cell_type": "code",
   "source": [
    "x = 3\n",
    "print(x)\n",
    "\n",
    "x = \"New String\"\n",
    "print(x)"
   ],
   "metadata": {},
   "execution_count": null,
   "outputs": [
    {
     "output_type": "stream",
     "name": "stdout",
     "text": [
      "3\n",
      "New String\n"
     ]
    }
   ]
  },
  {
   "cell_type": "markdown",
   "source": [
    "However, it is not good practice. To avoid mistakes, try to avoid overwriting the same variable with different data types."
   ],
   "metadata": {}
  },
  {
   "cell_type": "markdown",
   "source": [
    "**Exercise 02.06**: Fill in the blanks below to make the program output the float `7.5`."
   ],
   "metadata": {}
  },
  {
   "cell_type": "code",
   "source": [
    "x = 15\n",
    "y = ___  # Fill in this blank\n",
    "x = x _ y  # Fill in this blank\n",
    "print(x)"
   ],
   "metadata": {},
   "execution_count": null,
   "outputs": []
  },
  {
   "cell_type": "markdown",
   "source": [
    "## Assignment 02A\n",
    "### Task\n",
    "- Create two variables, `string` and `integer`.\n",
    "- Assign the string `***YooooooAoooooYooo-----` to the variable `string`.\n",
    "- Assign the integer `5` to `integer`.\n",
    "- Use string methods to keep only the alphabetical characters in `string`. Then remove all `o`s in the resulting string. Assign the result back to `string`.\n",
    "- Increment the value of `integer` by 3.\n",
    "- Output the value of `string * integer`."
   ],
   "metadata": {}
  },
  {
   "cell_type": "code",
   "source": [
    "# Write your code here"
   ],
   "metadata": {},
   "execution_count": null,
   "outputs": []
  },
  {
   "cell_type": "markdown",
   "source": [
    "## Input"
   ],
   "metadata": {}
  },
  {
   "cell_type": "markdown",
   "source": [
    "To get input from the user in Python, you can use the intuitively named `input` function. \n",
    "For example, a game can ask for the user's name and age as input and use them in the game.\n",
    "\n",
    "The input function prompts the user for input, and returns what they enter as a **string** (with the contents automatically escaped). Even if the user enters a number as input, it is processed as a string."
   ],
   "metadata": {}
  },
  {
   "cell_type": "code",
   "source": [
    "userInput = input(\"Enter your input: \")\n",
    "print(userInput)\n",
    "\n",
    "noPromptInput = input()\n",
    "print(noPromptInput)"
   ],
   "metadata": {},
   "execution_count": null,
   "outputs": []
  },
  {
   "cell_type": "markdown",
   "source": [
    "Note that the `input()` function can be used multiple times to get multiple inputs."
   ],
   "metadata": {}
  },
  {
   "cell_type": "markdown",
   "source": [
    "**Excersise 02.07**: Write a program that takes in user input (as a string) and multiplies that string by 3."
   ],
   "metadata": {}
  },
  {
   "cell_type": "code",
   "source": [
    "# Write your code here"
   ],
   "metadata": {},
   "execution_count": null,
   "outputs": []
  },
  {
   "cell_type": "markdown",
   "source": [
    "## Typecasting"
   ],
   "metadata": {}
  },
  {
   "cell_type": "markdown",
   "source": [
    "Since the `input` function **always returns a string**, how do we get numbers (integers/floats) as input?\n",
    "\n",
    "We can *typecast* the input string as a number!\n",
    "\n",
    "To typecast the input string to an integer, we can use the `int()` function."
   ],
   "metadata": {}
  },
  {
   "cell_type": "code",
   "source": [
    "age = input(\"Enter your age here: \")\n",
    "age = int(age)  # Typecasts the string `age` to an integer\n",
    "print(age)"
   ],
   "metadata": {},
   "execution_count": null,
   "outputs": []
  },
  {
   "cell_type": "markdown",
   "source": [
    "You can convert strings (or integers) to float using the `float()` function."
   ],
   "metadata": {}
  },
  {
   "cell_type": "code",
   "source": [
    "myFloat = float(7)  # 7 is an integer but we typecast it to a float\n",
    "print(myFloat)"
   ],
   "metadata": {},
   "execution_count": null,
   "outputs": []
  },
  {
   "cell_type": "markdown",
   "source": [
    "We can also convert integers/floats to strings by using the `str()` function."
   ],
   "metadata": {}
  },
  {
   "cell_type": "code",
   "source": [
    "print(\"String of 42:   \" + str(42))\n",
    "print(\"String of 3.14: \" + str(3.14))"
   ],
   "metadata": {},
   "execution_count": null,
   "outputs": []
  },
  {
   "cell_type": "markdown",
   "source": [
    "**Exersise 02.08**: Write code that takes in an integer and a float as input and outputs their sum."
   ],
   "metadata": {}
  },
  {
   "cell_type": "code",
   "source": [
    "# Write your code here"
   ],
   "metadata": {},
   "execution_count": null,
   "outputs": []
  },
  {
   "cell_type": "markdown",
   "source": [
    "## In-Place Operators"
   ],
   "metadata": {}
  },
  {
   "cell_type": "markdown",
   "source": [
    "In-place operators allow you to write code like `x = x + 3` more concisely, as `x += 3`. \n",
    "\n",
    "\n",
    "The same thing is possible with other operators such as `-`, `*`, `/`, `//`, and `%` as well."
   ],
   "metadata": {}
  },
  {
   "cell_type": "code",
   "source": [
    "x = 2\n",
    "print(x)\n",
    "\n",
    "x += 3  # Increment `x` by 3\n",
    "print(x)\n",
    "\n",
    "x -= 1  # Decrement `x` by 1\n",
    "print(x)\n",
    "\n",
    "x *= 4  # Multiply `x` by 4\n",
    "print(x)\n",
    "\n",
    "x //= 2  # Floor divide `x` by 2\n",
    "print(x)\n",
    "\n",
    "x /= 4  # Divide `x` by 4\n",
    "print(x)"
   ],
   "metadata": {},
   "execution_count": null,
   "outputs": []
  },
  {
   "cell_type": "markdown",
   "source": [
    "These operators can be used on types other than numbers, as well, such as strings."
   ],
   "metadata": {}
  },
  {
   "cell_type": "code",
   "source": [
    "s = \"Hello\"\n",
    "print(s)\n",
    "\n",
    "s *= 3  # Multiply the string `s` by 3\n",
    "print(s)\n",
    "\n",
    "s += \" World!\"  # Add the string \" World!\" to the end of the string `s`\n",
    "print(s)"
   ],
   "metadata": {},
   "execution_count": null,
   "outputs": []
  },
  {
   "cell_type": "markdown",
   "source": [
    "## Assignment 02B\n",
    "### Task\n",
    "Write a program that takes in two **floats** as input and returns their sum and difference.\n",
    "\n",
    "For example, if the first float is `2.3` and the second float is `4.5`, print out `6.8` on the first line and `-2.2` on the second.\n",
    "\n",
    "*You may assume that the input will __always be floats__.*\n",
    "\n",
    "### Sample Input\n",
    "```\n",
    "2.3\n",
    "4.5\n",
    "```\n",
    "\n",
    "### Sample Output\n",
    "```\n",
    "6.8\n",
    "-2.2\n",
    "```"
   ],
   "metadata": {}
  },
  {
   "cell_type": "code",
   "source": [
    "# Write your code here"
   ],
   "metadata": {},
   "execution_count": null,
   "outputs": []
  }
 ]
}
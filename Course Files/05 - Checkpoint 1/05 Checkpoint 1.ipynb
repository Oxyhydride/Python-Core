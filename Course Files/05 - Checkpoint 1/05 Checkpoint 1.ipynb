{
 "cells": [
  {
   "cell_type": "markdown",
   "metadata": {},
   "source": [
    "# 05 - Checkpoint 1\n",
    "The purpose of this module is to make sure that concepts introduced in modules 1 to 4 are understood.\n",
    "\n",
    "In this module, some programming tasks are asked. Complete them and check your solution against the suggested answers.\n",
    "\n",
    "Before that, however, 'catch-up' concepts will also be introduced at the start of this module."
   ]
  },
  {
   "cell_type": "markdown",
   "metadata": {},
   "source": [
    "## Catch-Up Concepts"
   ]
  },
  {
   "cell_type": "markdown",
   "metadata": {},
   "source": [
    "### Inequalities"
   ]
  },
  {
   "cell_type": "markdown",
   "metadata": {},
   "source": [
    "We introduced in a previous section that `>`, `<`, `>=` and `<=` are used to check if a certain number satisifies a certain numeric condition."
   ]
  },
  {
   "cell_type": "code",
   "execution_count": null,
   "metadata": {},
   "outputs": [],
   "source": [
    "number = 23\n",
    "\n",
    "# Say we want to check if `number` is between 10 and 30 inclusive\n",
    "if number >= 10 and number <= 30:\n",
    "    print(\"Number is between 10 and 30 inclusive\")"
   ]
  },
  {
   "cell_type": "markdown",
   "metadata": {},
   "source": [
    "A much shorter (and clearer) syntax that does the same thing as the above code is provided here."
   ]
  },
  {
   "cell_type": "code",
   "execution_count": null,
   "metadata": {},
   "outputs": [],
   "source": [
    "number = 23\n",
    "\n",
    "# Say we want to check if `number` is between 10 and 30 inclusive\n",
    "if 10 <= number <= 30:  # We can combine inequalities!\n",
    "    print(\"Number is between 10 and 30 inclusive\")"
   ]
  },
  {
   "cell_type": "markdown",
   "metadata": {},
   "source": [
    "### Sorting Lists"
   ]
  },
  {
   "cell_type": "markdown",
   "metadata": {},
   "source": [
    "Sorting lists is useful as they allow for easier traversal of data (see [Binary Search](https://en.m.wikipedia.org/wiki/Binary_search_algorithm) - this is not covered in this course).\n",
    "\n",
    "One way of sorting lists is by using the `.sort()` method of lists. This sorts the data in the list in ascending order."
   ]
  },
  {
   "cell_type": "code",
   "execution_count": null,
   "metadata": {},
   "outputs": [],
   "source": [
    "myList = [9, 7, 3, 4, 1, 0, 5, 2, 8, 6]\n",
    "print(myList)\n",
    "\n",
    "myList.sort()  # Sorts the list\n",
    "print(myList)"
   ]
  },
  {
   "cell_type": "markdown",
   "metadata": {},
   "source": [
    "Another way to sort lists is by using the `sorted` function."
   ]
  },
  {
   "cell_type": "code",
   "execution_count": null,
   "metadata": {},
   "outputs": [],
   "source": [
    "myList = [9, 7, 3, 4, 1, 0, 5, 2, 8, 6]\n",
    "print(myList)\n",
    "\n",
    "myList = sorted(myList)  # Note we have to reassign it back to `myList`\n",
    "print(myList)"
   ]
  },
  {
   "cell_type": "markdown",
   "metadata": {},
   "source": [
    "## Assignment 05A\n",
    "### Task\n",
    "Write a program that takes in a positive integer `N` and separates the first `N` positive integers (that is, from 1 to `N` inclusive) into three lists.\n",
    "- The first list contains integers that, when divided by 3, have a remainder of 0.\n",
    "- The first list contains integers that, when divided by 3, have a remainder of 1.\n",
    "- The first list contains integers that, when divided by 3, have a remainder of 2.\n",
    "\n",
    "Print the three lists.\n",
    "\n",
    "*Note: you do __not__ have to validate `N`.*"
   ]
  },
  {
   "cell_type": "code",
   "execution_count": null,
   "metadata": {},
   "outputs": [],
   "source": [
    "# Write your code here"
   ]
  },
  {
   "cell_type": "markdown",
   "metadata": {},
   "source": [
    "## Assignment 05B\n",
    "The Fibonacci numbers follow the pattern\n",
    "```\n",
    "1, 1, 2, 3, 5, 8, 13, 21, 34, 55, 89, 144, 233, 377, 610, ...\n",
    "```\n",
    "where the first two terms are `1` and `1` and the next term is the sum of the previous two terms.\n",
    "\n",
    "### Task\n",
    "Write a program that accepts a positive integer `N` and prints the `N`th Fibonacci number.\n",
    "\n",
    "*Note: you do __not__ need to validate the input of `N`.*"
   ]
  },
  {
   "cell_type": "code",
   "execution_count": null,
   "metadata": {},
   "outputs": [],
   "source": [
    "# Write your code here"
   ]
  },
  {
   "cell_type": "markdown",
   "metadata": {},
   "source": [
    "## Assignment 05C\n",
    "\n",
    "This comma-separated list is the amount spent by **30** customers in a small shop, in chronological order (from earliest to latest).\n",
    "```\n",
    "91,100,156,155,136,127,148,79,165,154,113,142,116,92,129,158,146,157,101,138,143,93,122,159,54,123,152,131,124,172\n",
    "```\n",
    "The shop wants to reward the `k`th highest spender in the day (where `k` will be provided to you by the store).\n",
    "\n",
    "**Note: all spending by customers are guaranteed to be unique**.\n",
    "\n",
    "### Task\n",
    "Write a program that:\n",
    "- Takes in **and validates** the value of `k`.\n",
    "    - `k` must be a positive integer\n",
    "    - `k` must be less than or equal to 30\n",
    "    - You may assume the input for `k` will always be a valid integer\n",
    "- Prints out the ***index*** of the `k`th highest spender in that list.\n",
    "\n",
    "*Hint: You may want to consider sorting.*"
   ]
  },
  {
   "cell_type": "code",
   "execution_count": null,
   "metadata": {},
   "outputs": [],
   "source": [
    "# Write your code here"
   ]
  },
  {
   "cell_type": "markdown",
   "metadata": {},
   "source": [
    "## Assignment 05D\n",
    "Statistical analysis on data is useful.\n",
    "- The minimum and maximum values tell us the range of the data.\n",
    "- The mean $\\mu$ of the data tells us the average value of the data.\n",
    "- The variance $\\sigma^2$ tells us how varied the data is. Variance is given by $$\\sigma^2 = \\frac1{N-1}\\sum_{i=1}^N (x_i-\\mu)^2$$ where $\\sum_{i=1}^N (x_i-\\mu)^2$ is the sum of the squares of each data subtracted from the mean and $N$ is the number of data points.\n",
    "- Standard deviation $\\sigma$ tells us how spread of a group of numbers is from the mean. It is the positive square root of the variance.\n",
    "\n",
    "The following is **26** space-separated integers, representing the scores of 26 students who took a test.\n",
    "```\n",
    "72 92 76 83 77 72 91 78 74 58 78 71 63 67 70 79 84 73 80 82 77 70 72 76 74 61\n",
    "```\n",
    "The school wants to run some statistical analysis on this data.\n",
    "\n",
    "### Task\n",
    "Write a program that does the following.\n",
    "- Prints the minimum and maximum scores.\n",
    "- Prints the mean and standard deviation of the scores.\n",
    "- Prints the list of scores that are one standard deviation away from the mean.\n",
    "    - This means that a score $x$ in this list satisfy $ \\mu - \\sigma \\leq x \\leq \\mu + \\sigma$.\n",
    "\n",
    "All print statments should be accompanied with an appropriate message."
   ]
  },
  {
   "cell_type": "code",
   "execution_count": null,
   "metadata": {},
   "outputs": [],
   "source": [
    "# Write your code here"
   ]
  },
  {
   "cell_type": "markdown",
   "metadata": {},
   "source": [
    "## Assignment 05E\n",
    "A list of integers of length $N$ is said to be *strictly increasing* if, for every pair of indices $i$ and $j$ such that $1 \\leq i < j \\leq N$ (1-based), the integer at position $i$ is strictly smaller than the integer at position $j$.\n",
    "\n",
    "For example, the list `[-1, 1, 2, 3, 5, 8]` is strictly increasing whereas `[1, 3, 4, 1]` and `[-1, 1, 1, 2, 3, 5]` are not.\n",
    "\n",
    "Given a list of integers `L` of length `N`, what is the length of the longest strictly increasing *contiguous sublist* that ends at position $i$, for every position $1 \\leq i \\leq N$?\n",
    "\n",
    "Note: A contiguous sublist is a set of elements that are next to each other in a list. For example, in the list `[1, 2, 3, 4, 5]`,\n",
    "- Some **valid** contiguous sublists are `[1]`, `[2]`, `[1, 2, 3]`, `[2, 3, 4]`, `[1, 2, 3, 4, 5]`.\n",
    "- Some **invalid** contiguous sublists are `[1, 3, 4]`, `[4, 3, 3]`, `[1, 5]`, `[2, 3, 5]`, `[2, 4]`.\n",
    "\n",
    "### Task\n",
    "You will be given two things as input.\n",
    "- `N`, which is the length of the list `L`\n",
    "- The list `L` as a **string** of space-separated integers.\n",
    "    - You may assume that every element in `L` is a non-negative integer.\n",
    "You **do not** have to validate input.\n",
    "\n",
    "Output `N` lines. The $i$<sup>th</sup> line (where $1 \\leq i \\leq N$) contains the length of the longest contiguous sublist up to index $i$.\n",
    "\n",
    "### Sample Input\n",
    "```\n",
    "10\n",
    "1 2 3 3 3 4 5 6 7 8\n",
    "```\n",
    "\n",
    "### Sample Output\n",
    "```\n",
    "1\n",
    "2\n",
    "3\n",
    "3\n",
    "3\n",
    "3\n",
    "3\n",
    "4\n",
    "5\n",
    "6\n",
    "```\n",
    "\n",
    "### Explanation\n",
    "The longest strictly increasing contiguous sublist that ends at position:\n",
    "- 1 is `[1]`, hence `1`\n",
    "- 2 is `[1, 2]`, hence `2`\n",
    "- 3 is `[1, 2, 3]`, hence `3`\n",
    "- 4 is `[1, 2, 3]` (note: `[1, 2, 3, 3]` is **not** a strictly increasing contiguous sublist), hence `3`\n",
    "- 5 is `[1, 2, 3]`, hence `3`\n",
    "- 6 is `[1, 2, 3]`, hence `3`\n",
    "- 7 is `[1, 2, 3]` **or** `[3, 4, 5]`, hence `3`\n",
    "- 8 is `[3, 4, 5, 6]`, hence `4`\n",
    "- 9 is `[3, 4, 5, 6, 7]`, hence `5`\n",
    "- 10 is `[3, 4, 5, 6, 7, 8]`, hence `6`\n",
    "\n",
    "### Challenge\n",
    "Can you write working code that uses only **one loop** and **no list slicing and no list comprehension**?"
   ]
  },
  {
   "cell_type": "code",
   "execution_count": null,
   "metadata": {},
   "outputs": [],
   "source": [
    "# Write your code here"
   ]
  }
 ],
 "metadata": {},
 "nbformat": 4,
 "nbformat_minor": 1
}
{
 "cells": [
  {
   "cell_type": "markdown",
   "metadata": {},
   "source": [
    "# 01 - Basic Concepts (SOLUTIONS)"
   ]
  },
  {
   "cell_type": "markdown",
   "metadata": {},
   "source": [
    "## Printing Text"
   ]
  },
  {
   "cell_type": "markdown",
   "metadata": {},
   "source": [
    "In Python, we use the `print` statement to print text. Note that the text should be enclosed within single-quotes or double quotes."
   ]
  },
  {
   "cell_type": "code",
   "execution_count": 1,
   "metadata": {},
   "outputs": [
    {
     "name": "stdout",
     "output_type": "stream",
     "text": [
      "Hello World!\n"
     ]
    }
   ],
   "source": [
    "print('Hello World!')"
   ]
  },
  {
   "cell_type": "markdown",
   "metadata": {},
   "source": [
    "The `print` statement needs to be followed by parentheses, which enclose the output we want to generate.\n",
    "\n",
    "The `print` statement can also be used to output multiple lines of text. Each `print` statement outputs text from a new line."
   ]
  },
  {
   "cell_type": "code",
   "execution_count": 2,
   "metadata": {},
   "outputs": [
    {
     "name": "stdout",
     "output_type": "stream",
     "text": [
      "Here's one line\n",
      "Here's another line\n",
      "Here's a third line\n"
     ]
    }
   ],
   "source": [
    "print(\"Here's one line\")\n",
    "print(\"Here's another line\")\n",
    "print(\"Here's a third line\")"
   ]
  },
  {
   "cell_type": "markdown",
   "metadata": {},
   "source": [
    "To print two texts side by side, separated by a space, place a comma between the two texts."
   ]
  },
  {
   "cell_type": "code",
   "execution_count": 3,
   "metadata": {},
   "outputs": [
    {
     "name": "stdout",
     "output_type": "stream",
     "text": [
      "Here's the first part of the text and here's the second\n"
     ]
    }
   ],
   "source": [
    "print(\"Here's the first part of the text\", \"and here's the second\")"
   ]
  },
  {
   "cell_type": "markdown",
   "metadata": {},
   "source": [
    "**Exercise 01.01**: Write code to generate the following output:\n",
    "```\n",
    "A B\n",
    "C D\n",
    "E F\n",
    "```"
   ]
  },
  {
   "cell_type": "code",
   "execution_count": 4,
   "metadata": {},
   "outputs": [
    {
     "name": "stdout",
     "output_type": "stream",
     "text": [
      "A B\n",
      "C D\n",
      "E F\n",
      "A B\n",
      "C D\n",
      "E F\n"
     ]
    }
   ],
   "source": [
    "# One way is to do this\n",
    "print(\"A\", \"B\")\n",
    "print(\"C\", \"D\")\n",
    "print(\"E\", \"F\")\n",
    "\n",
    "# Another way is to do\n",
    "print(\"A B\")\n",
    "print(\"C D\")\n",
    "print(\"E F\")"
   ]
  },
  {
   "cell_type": "markdown",
   "metadata": {},
   "source": [
    "## Simple Operations"
   ]
  },
  {
   "cell_type": "markdown",
   "metadata": {},
   "source": [
    "Python has the ability of carrying out calculations. For example, Python uses `+` for addition and `-` for subtraction."
   ]
  },
  {
   "cell_type": "code",
   "execution_count": 5,
   "metadata": {},
   "outputs": [
    {
     "name": "stdout",
     "output_type": "stream",
     "text": [
      "3\n",
      "-1\n",
      "-4\n"
     ]
    }
   ],
   "source": [
    "print(1 + 2)\n",
    "print(3 - 4)\n",
    "print(5 + 6 - 7 - 8)"
   ]
  },
  {
   "cell_type": "markdown",
   "metadata": {},
   "source": [
    "**Discussion 01.01**: Predict what the following code will output.\n",
    "```python\n",
    "print(10 - 9 + 8 - 7)\n",
    "```\n",
    "Check your prediction by running the code in the space provided below."
   ]
  },
  {
   "cell_type": "code",
   "execution_count": 6,
   "metadata": {},
   "outputs": [
    {
     "name": "stdout",
     "output_type": "stream",
     "text": [
      "2\n"
     ]
    }
   ],
   "source": [
    "print(10 - 9 + 8 - 7)"
   ]
  },
  {
   "cell_type": "markdown",
   "metadata": {},
   "source": [
    "Python also carries out multiplication and division, using an asterisk `*` to indicate multiplication and a forward slash `/` to indicate division. \n",
    "\n",
    "Use parentheses to determine which operations are performed first."
   ]
  },
  {
   "cell_type": "code",
   "execution_count": 7,
   "metadata": {},
   "outputs": [
    {
     "name": "stdout",
     "output_type": "stream",
     "text": [
      "14\n",
      "10\n",
      "1.1666666666666667\n",
      "4.0\n"
     ]
    }
   ],
   "source": [
    "print(2 * (3 + 4))\n",
    "print(2 * 3 + 4)\n",
    "print(7 / 6)\n",
    "print(8 / 2)"
   ]
  },
  {
   "cell_type": "markdown",
   "metadata": {},
   "source": [
    "*Note: Using a single slash to divide numbers produces a decimal (or __float__, as it is called in programming). We'll cover more about floats in a while.*"
   ]
  },
  {
   "cell_type": "markdown",
   "metadata": {},
   "source": [
    "**Exercise 01.02**: Write code to generate the value of the following number.\n",
    "> Six plus seven minus two, then multiplied by two, then divided by seven.\n",
    "\n",
    "Verify that your answer is `3.14`, when rounded to 2 decimal places."
   ]
  },
  {
   "cell_type": "code",
   "execution_count": 8,
   "metadata": {},
   "outputs": [
    {
     "name": "stdout",
     "output_type": "stream",
     "text": [
      "3.142857142857143\n"
     ]
    }
   ],
   "source": [
    "print(((6 + 7 - 2) * 2) / 7)"
   ]
  },
  {
   "cell_type": "markdown",
   "metadata": {},
   "source": [
    "## Floats"
   ]
  },
  {
   "cell_type": "markdown",
   "metadata": {},
   "source": [
    "Floats are used in Python to represent numbers that aren't **integers** (whole numbers). \n",
    "\n",
    "Some examples of numbers that are represented as floats are `0.5`, `3.14159`, `-7.8237591`, and `8.0`.\n",
    "\n",
    "They can be created directly by entering a number with a decimal point, or by using operations such as division on integers."
   ]
  },
  {
   "cell_type": "code",
   "execution_count": 9,
   "metadata": {},
   "outputs": [
    {
     "name": "stdout",
     "output_type": "stream",
     "text": [
      "0.567\n",
      "3.1415929203539825\n"
     ]
    }
   ],
   "source": [
    "print(0.567)\n",
    "print(355/113)"
   ]
  },
  {
   "cell_type": "markdown",
   "metadata": {},
   "source": [
    "Computers can't store floats perfectly accurately, in the same way that we can't write down the complete decimal expansion of 1/3 (0.3333333333333333...). Keep this in mind, because it often leads to bugs."
   ]
  },
  {
   "cell_type": "code",
   "execution_count": 10,
   "metadata": {},
   "outputs": [
    {
     "name": "stdout",
     "output_type": "stream",
     "text": [
      "0.30000000000000004\n",
      "0.3\n"
     ]
    }
   ],
   "source": [
    "print(0.1 + 0.1 + 0.1)\n",
    "print(0.3)"
   ]
  },
  {
   "cell_type": "markdown",
   "metadata": {},
   "source": [
    "A float is produced by running an operation on two floats, or on a float and an integer. Division of two integers also produces a float."
   ]
  },
  {
   "cell_type": "code",
   "execution_count": 11,
   "metadata": {},
   "outputs": [
    {
     "name": "stdout",
     "output_type": "stream",
     "text": [
      "3.0\n",
      "12.0\n",
      "1.2\n",
      "3.0\n"
     ]
    }
   ],
   "source": [
    "print(1.0 + 2)\n",
    "print(3 * 4.0)\n",
    "print(6.0 / 5)\n",
    "print(9 / 3)"
   ]
  },
  {
   "cell_type": "markdown",
   "metadata": {},
   "source": [
    "**Discussion 01.02**: Predict the output of this code\n",
    "```python\n",
    "print(1 + 2 + 3 + 4.0 + 5)\n",
    "```\n",
    "before writing code to print out the answer."
   ]
  },
  {
   "cell_type": "code",
   "execution_count": 12,
   "metadata": {},
   "outputs": [
    {
     "name": "stdout",
     "output_type": "stream",
     "text": [
      "15.0\n"
     ]
    }
   ],
   "source": [
    "print(1 + 2 + 3 + 4.0 + 5)  # Output should be 15.0"
   ]
  },
  {
   "cell_type": "markdown",
   "metadata": {},
   "source": [
    "## Exponentiation"
   ]
  },
  {
   "cell_type": "markdown",
   "metadata": {},
   "source": [
    "Besides addition, subtraction, multiplication, and division, Python also supports exponentiation, which is the raising of one number to the power of another. This operation is performed using two asterisks.\n",
    "\n",
    "For example, here's how to calculate the value of $2^5$."
   ]
  },
  {
   "cell_type": "code",
   "execution_count": 13,
   "metadata": {},
   "outputs": [
    {
     "name": "stdout",
     "output_type": "stream",
     "text": [
      "32\n"
     ]
    }
   ],
   "source": [
    "print(2 ** 5)"
   ]
  },
  {
   "cell_type": "markdown",
   "metadata": {},
   "source": [
    "You can also use floats in exponentiation. Note that the output of such an operation will still be a float.\n",
    "\n",
    "For example, the following code will result in the square root of 9, which is $9^\\frac12 = 9^{0.5}$:"
   ]
  },
  {
   "cell_type": "code",
   "execution_count": 14,
   "metadata": {},
   "outputs": [
    {
     "name": "stdout",
     "output_type": "stream",
     "text": [
      "3.0\n",
      "3.0\n"
     ]
    }
   ],
   "source": [
    "print(9 ** (1/2))\n",
    "print(9 ** 0.5)"
   ]
  },
  {
   "cell_type": "markdown",
   "metadata": {},
   "source": [
    "**Exercise 01.03**: Using python, find the value of $$\\left(64^2\\right)^\\frac13$$"
   ]
  },
  {
   "cell_type": "code",
   "execution_count": 15,
   "metadata": {},
   "outputs": [
    {
     "name": "stdout",
     "output_type": "stream",
     "text": [
      "15.999999999999998\n"
     ]
    }
   ],
   "source": [
    "print((64 ** 2) ** (1/3))"
   ]
  },
  {
   "cell_type": "markdown",
   "metadata": {},
   "source": [
    "## Quotient and Remainder"
   ]
  },
  {
   "cell_type": "markdown",
   "metadata": {},
   "source": [
    "Floor division is done using two forward slashes (`//`) and is used to determine the quotient of a division (the quantity produced by the division of two numbers). Floor division can  be done on both floats and integers."
   ]
  },
  {
   "cell_type": "code",
   "execution_count": 16,
   "metadata": {},
   "outputs": [
    {
     "name": "stdout",
     "output_type": "stream",
     "text": [
      "3\n"
     ]
    }
   ],
   "source": [
    "print(20 // 6)"
   ]
  },
  {
   "cell_type": "markdown",
   "metadata": {},
   "source": [
    "The code above will output 3, because 6 goes into 20 three times."
   ]
  },
  {
   "cell_type": "markdown",
   "metadata": {},
   "source": [
    "The modulo operator is carried out with a percent symbol (`%`) and is used to get the remainder of a division. The modulo operator can also be used on floats."
   ]
  },
  {
   "cell_type": "code",
   "execution_count": 17,
   "metadata": {},
   "outputs": [
    {
     "name": "stdout",
     "output_type": "stream",
     "text": [
      "2\n"
     ]
    }
   ],
   "source": [
    "print(20 % 6)"
   ]
  },
  {
   "cell_type": "markdown",
   "metadata": {},
   "source": [
    "The code will output 2, because after dividing 20 by 6 there is a remainder of 2."
   ]
  },
  {
   "cell_type": "markdown",
   "metadata": {},
   "source": [
    "**Discussion 01.03**: What do you think the output of the following code snippets will be?\n",
    "\n",
    "- `print(20.0 // 6)`\n",
    "- `print(20 // 6.0)`\n",
    "- `print(20.0 % 6)`\n",
    "- `print(20 % 6.0)`"
   ]
  },
  {
   "cell_type": "code",
   "execution_count": 18,
   "metadata": {},
   "outputs": [
    {
     "name": "stdout",
     "output_type": "stream",
     "text": [
      "3.0\n",
      "3.0\n",
      "2.0\n",
      "2.0\n"
     ]
    }
   ],
   "source": [
    "print(20.0 // 6)\n",
    "print(20 // 6.0)\n",
    "print(20.0 % 6)\n",
    "print(20 % 6.0)"
   ]
  },
  {
   "cell_type": "markdown",
   "metadata": {},
   "source": [
    "The important thing to note is that if **any of the numbers used in any operation is a float**, then the **result is also a float**."
   ]
  },
  {
   "cell_type": "markdown",
   "metadata": {},
   "source": [
    "**Exercise 01.04**: Write code that outputs the quotient and remainder of $37 \\div 7$."
   ]
  },
  {
   "cell_type": "code",
   "execution_count": 19,
   "metadata": {},
   "outputs": [
    {
     "name": "stdout",
     "output_type": "stream",
     "text": [
      "5\n",
      "2\n"
     ]
    }
   ],
   "source": [
    "print(37 // 7)  # Quotient\n",
    "print(37 % 7)   # Remainder"
   ]
  },
  {
   "cell_type": "markdown",
   "metadata": {},
   "source": [
    "## Comments"
   ]
  },
  {
   "cell_type": "markdown",
   "metadata": {},
   "source": [
    "Comments are to clarify and explain code. Comments in Python start with the hash character, `#`, and extend to the end of the physical line."
   ]
  },
  {
   "cell_type": "code",
   "execution_count": 20,
   "metadata": {},
   "outputs": [
    {
     "name": "stdout",
     "output_type": "stream",
     "text": [
      "# This is not a comment because it's inside quotes.\n"
     ]
    }
   ],
   "source": [
    "# This is the first comment\n",
    "# And this is the second comment\n",
    " # ... And now a third!\n",
    "print(\"# This is not a comment because it's inside quotes.\")"
   ]
  },
  {
   "cell_type": "markdown",
   "metadata": {},
   "source": [
    "Even though comments may contain python code, they will not be executed as they are comments."
   ]
  },
  {
   "cell_type": "code",
   "execution_count": 21,
   "metadata": {},
   "outputs": [],
   "source": [
    "# print(\"Nothing will be printed as this is a comment\")"
   ]
  },
  {
   "cell_type": "markdown",
   "metadata": {},
   "source": [
    "**Exercise 01.05**: By removing **at most 1 character** and adding **at most 1 character**, make the following code output `Yay!`."
   ]
  },
  {
   "cell_type": "code",
   "execution_count": 22,
   "metadata": {},
   "outputs": [
    {
     "name": "stdout",
     "output_type": "stream",
     "text": [
      "Yay!\n"
     ]
    }
   ],
   "source": [
    "#print(\"Nay!\")\n",
    "print(\"Yay!\")"
   ]
  },
  {
   "cell_type": "markdown",
   "metadata": {},
   "source": [
    "## Assignment 01\n",
    "### Task\n",
    "Write a program to output two lines:\n",
    "- The first line contains the float `1000.0`\n",
    "- The second line contains the value of `0.01` doubled 30 times.\n",
    "\n",
    "*Hint: You may want to consider exponentiation.*"
   ]
  },
  {
   "cell_type": "code",
   "execution_count": 23,
   "metadata": {},
   "outputs": [
    {
     "name": "stdout",
     "output_type": "stream",
     "text": [
      "1000.0\n",
      "10737418.24\n"
     ]
    }
   ],
   "source": [
    "print(1000.0)\n",
    "print(0.01 * 2**30)"
   ]
  }
 ],
 "metadata": {},
 "nbformat": 4,
 "nbformat_minor": 1
}